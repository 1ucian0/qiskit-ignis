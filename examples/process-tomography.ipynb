{
 "cells": [
  {
   "cell_type": "markdown",
   "metadata": {},
   "source": [
    "# Quantum Process Tomography\n",
    "\n",
    "* **Author:** Christopher J. Wood (cjwood@us.ibm.com)\n",
    "* **Last Updated:** November 8, 2018 "
   ]
  },
  {
   "cell_type": "code",
   "execution_count": 1,
   "metadata": {
    "collapsed": true
   },
   "outputs": [],
   "source": [
    "# Needed for functions\n",
    "import numpy as np\n",
    "import time\n",
    "\n",
    "# Import QISKit classes\n",
    "import qiskit\n",
    "from qiskit import QuantumRegister, QuantumCircuit, Aer\n",
    "from qiskit.tools.qi.qi import state_fidelity, outer\n",
    "\n",
    "# Tomography functions\n",
    "import sys, os\n",
    "sys.path.append(os.path.abspath(os.path.join('../qiskit_ignis')))\n",
    "import tomography as tomo"
   ]
  },
  {
   "cell_type": "markdown",
   "metadata": {},
   "source": [
    "## 1-qubit process tomography example"
   ]
  },
  {
   "cell_type": "code",
   "execution_count": 2,
   "metadata": {},
   "outputs": [
    {
     "data": {
      "text/plain": [
       "{(('Zp',), ('X',)): {'0': 2000},\n",
       " (('Zp',), ('Y',)): {'0': 995, '1': 1005},\n",
       " (('Zp',), ('Z',)): {'0': 968, '1': 1032},\n",
       " (('Zm',), ('X',)): {'1': 2000},\n",
       " (('Zm',), ('Y',)): {'0': 967, '1': 1033},\n",
       " (('Zm',), ('Z',)): {'0': 958, '1': 1042},\n",
       " (('Xp',), ('X',)): {'0': 1014, '1': 986},\n",
       " (('Xp',), ('Y',)): {'0': 992, '1': 1008},\n",
       " (('Xp',), ('Z',)): {'0': 2000},\n",
       " (('Yp',), ('X',)): {'0': 986, '1': 1014},\n",
       " (('Yp',), ('Y',)): {'1': 2000},\n",
       " (('Yp',), ('Z',)): {'0': 959, '1': 1041}}"
      ]
     },
     "execution_count": 2,
     "metadata": {},
     "output_type": "execute_result"
    }
   ],
   "source": [
    "# Process tomography of a Hadamard gate\n",
    "q = QuantumRegister(1)\n",
    "circ = QuantumCircuit(q)\n",
    "circ.h(q[0])\n",
    "\n",
    "# Run circuit on unitary simulator to find ideal unitary\n",
    "job = qiskit.execute(circ, Aer.get_backend('unitary_simulator'))\n",
    "ideal_unitary = job.result().get_data(circ).get('unitary')\n",
    "# convert to Choi-matrix in column-major convention\n",
    "choi_ideal = outer(ideal_unitary.ravel(order='F'))\n",
    "\n",
    "# Generate process tomography circuits and run on qasm simulator\n",
    "qpt_circs = tomo.process_tomography_circuits(circ, q)\n",
    "job = qiskit.execute(qpt_circs, Aer.get_backend('qasm_simulator'), shots=2000)\n",
    "\n",
    "# Extract tomography data so that counts are indexed by measurement configuration\n",
    "qpt_counts = tomo.tomography_data(job.result(), qpt_circs)\n",
    "qpt_counts"
   ]
  },
  {
   "cell_type": "code",
   "execution_count": 3,
   "metadata": {},
   "outputs": [
    {
     "name": "stdout",
     "output_type": "stream",
     "text": [
      "MLE Fitter\n",
      "fit time: 0.19025516510009766\n",
      "fit fidelity: 0.9937142233768951\n",
      "\n",
      "CVXOPT Fitter\n",
      "fit time: 0.21304011344909668\n",
      "fit fidelity: 0.9998838322013748\n"
     ]
    }
   ],
   "source": [
    "# Extract fitter data from tomography counts\n",
    "data, basis = tomo.fitter_data(qpt_counts)\n",
    "\n",
    "# MLE Least-Squares tomographic reconstruction\n",
    "t = time.time()\n",
    "choi_mle = tomo.process_mle_fit(data, basis)\n",
    "print('MLE Fitter')\n",
    "print('fit time:', time.time() - t)\n",
    "print('fit fidelity:', state_fidelity(choi_ideal / 2, choi_mle / 2))\n",
    "\n",
    "# CVXOPT Semidefinite-Program tomographic reconstruction\n",
    "t = time.time()\n",
    "choi_cvx = tomo.fitters.cvx_fit(data, basis, PSD=True, trace_preserving=True, trace=2)\n",
    "choi_cvx = tomo.process_cvx_fit(data, basis)\n",
    "print('\\nCVXOPT Fitter')\n",
    "print('fit time:', time.time() - t)\n",
    "print('fit fidelity:', state_fidelity(choi_ideal / 2, choi_cvx / 2))"
   ]
  },
  {
   "cell_type": "markdown",
   "metadata": {},
   "source": [
    "## 2-Qubit entangling circuit"
   ]
  },
  {
   "cell_type": "code",
   "execution_count": 4,
   "metadata": {},
   "outputs": [
    {
     "name": "stdout",
     "output_type": "stream",
     "text": [
      "MLE Fitter\n",
      "fit time: 0.03369331359863281\n",
      "fit fidelity: 0.9789523948844063\n",
      "\n",
      "CVXOPT Fitter\n",
      "fit time: 1.3920791149139404\n",
      "fit fidelity: 0.999869582566958\n"
     ]
    }
   ],
   "source": [
    "# Bell-state entangling circuit\n",
    "q = QuantumRegister(2)\n",
    "circ = QuantumCircuit(q)\n",
    "circ.h(q[0])\n",
    "circ.cx(q[0], q[1])\n",
    "\n",
    "# Run circuit on unitary simulator to find ideal unitary\n",
    "job = qiskit.execute(circ, Aer.get_backend('unitary_simulator'))\n",
    "ideal_unitary = job.result().get_data(circ).get('unitary')\n",
    "# convert to Choi-matrix in column-major convention\n",
    "choi_ideal = outer(ideal_unitary.ravel(order='F'))\n",
    "\n",
    "# Generate process tomography circuits and run on qasm simulator\n",
    "qpt_circs = tomo.process_tomography_circuits(circ, q)\n",
    "job = qiskit.execute(qpt_circs, Aer.get_backend('qasm_simulator'), shots=2000)\n",
    "\n",
    "# Extract tomography data so that counts are indexed by measurement configuration\n",
    "qpt_counts = tomo.tomography_data(job.result(), qpt_circs)\n",
    "\n",
    "# Extract fitter data from tomography counts\n",
    "data, basis = tomo.fitter_data(qpt_counts)\n",
    "\n",
    "\n",
    "t = time.time()\n",
    "choi_mle = tomo.process_mle_fit(data, basis)\n",
    "print('MLE Fitter')\n",
    "print('fit time:', time.time() - t)\n",
    "print('fit fidelity:', state_fidelity(choi_ideal / 4, choi_mle / 4))\n",
    "\n",
    "t = time.time()\n",
    "choi_cvx = tomo.process_cvx_fit(data, basis)\n",
    "print('\\nCVXOPT Fitter')\n",
    "print('fit time:', time.time() - t)\n",
    "print('fit fidelity:', state_fidelity(choi_ideal / 4, choi_cvx / 4))"
   ]
  },
  {
   "cell_type": "markdown",
   "metadata": {},
   "source": [
    "## Using SIC-POVM preparation basis"
   ]
  },
  {
   "cell_type": "code",
   "execution_count": 6,
   "metadata": {},
   "outputs": [
    {
     "data": {
      "text/plain": [
       "{(('S0',), ('X',)): {'0': 2000},\n",
       " (('S0',), ('Y',)): {'0': 1014, '1': 986},\n",
       " (('S0',), ('Z',)): {'0': 995, '1': 1005},\n",
       " (('S1',), ('X',)): {'0': 637, '1': 1363},\n",
       " (('S1',), ('Y',)): {'0': 965, '1': 1035},\n",
       " (('S1',), ('Z',)): {'0': 1946, '1': 54},\n",
       " (('S2',), ('X',)): {'0': 652, '1': 1348},\n",
       " (('S2',), ('Y',)): {'0': 1841, '1': 159},\n",
       " (('S2',), ('Z',)): {'0': 535, '1': 1465},\n",
       " (('S3',), ('X',)): {'0': 667, '1': 1333},\n",
       " (('S3',), ('Y',)): {'0': 195, '1': 1805},\n",
       " (('S3',), ('Z',)): {'0': 538, '1': 1462}}"
      ]
     },
     "execution_count": 6,
     "metadata": {},
     "output_type": "execute_result"
    }
   ],
   "source": [
    "# Process tomography of a Hadamard gate\n",
    "q = QuantumRegister(1)\n",
    "circ = QuantumCircuit(q)\n",
    "circ.h(q[0])\n",
    "\n",
    "# Run circuit on unitary simulator to find ideal unitary\n",
    "job = qiskit.execute(circ, Aer.get_backend('unitary_simulator'))\n",
    "ideal_unitary = job.result().get_data(circ).get('unitary')\n",
    "# convert to Choi-matrix in column-major convention\n",
    "choi_ideal = outer(ideal_unitary.ravel(order='F'))\n",
    "\n",
    "# Generate process tomography circuits and run on qasm simulator\n",
    "qpt_circs = tomo.process_tomography_circuits(circ, q, prep_labels='SIC', prep_basis='SIC')\n",
    "job = qiskit.execute(qpt_circs, Aer.get_backend('qasm_simulator'), shots=2000)\n",
    "\n",
    "# Extract tomography data so that counts are indexed by measurement configuration\n",
    "qpt_counts = tomo.tomography_data(job.result(), qpt_circs)\n",
    "qpt_counts"
   ]
  },
  {
   "cell_type": "code",
   "execution_count": 7,
   "metadata": {},
   "outputs": [
    {
     "name": "stdout",
     "output_type": "stream",
     "text": [
      "MLE Fitter\n",
      "fit time: 0.0012753009796142578\n",
      "fit fidelity: 0.9969257435314389\n",
      "\n",
      "CVXOPT Fitter\n",
      "fit time: 0.08712172508239746\n",
      "fit fidelity: 0.9998851567089635\n"
     ]
    }
   ],
   "source": [
    "# Extract fitter data from tomography counts\n",
    "data, basis = tomo.fitter_data(qpt_counts, prep_basis='SIC')\n",
    "\n",
    "# MLE Least-Squares tomographic reconstruction\n",
    "t = time.time()\n",
    "choi_mle = tomo.process_mle_fit(data, basis)\n",
    "print('MLE Fitter')\n",
    "print('fit time:', time.time() - t)\n",
    "print('fit fidelity:', state_fidelity(choi_ideal / 2, choi_mle / 2))\n",
    "\n",
    "# CVXOPT Semidefinite-Program tomographic reconstruction\n",
    "t = time.time()\n",
    "choi_cvx = tomo.process_cvx_fit(data, basis)\n",
    "\n",
    "print('\\nCVXOPT Fitter')\n",
    "print('fit time:', time.time() - t)\n",
    "print('fit fidelity:', state_fidelity(choi_ideal / 2, choi_cvx / 2))"
   ]
  }
 ],
 "metadata": {
  "kernelspec": {
   "display_name": "Python (qiskit)",
   "language": "python",
   "name": "qiskit"
  },
  "language_info": {
   "codemirror_mode": {
    "name": "ipython",
    "version": 3
   },
   "file_extension": ".py",
   "mimetype": "text/x-python",
   "name": "python",
   "nbconvert_exporter": "python",
   "pygments_lexer": "ipython3",
   "version": "3.6.5"
  }
 },
 "nbformat": 4,
 "nbformat_minor": 2
}
