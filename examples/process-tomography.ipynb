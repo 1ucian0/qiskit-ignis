{
 "cells": [
  {
   "cell_type": "markdown",
   "metadata": {},
   "source": [
    "# Quantum Process Tomography\n",
    "\n",
    "* **Last Updated:** Jan 24, 2019\n",
    "* **Requires:** qiskit-terra 0.7"
   ]
  },
  {
   "cell_type": "code",
   "execution_count": 1,
   "metadata": {},
   "outputs": [],
   "source": [
    "# Needed for functions\n",
    "import numpy as np\n",
    "import time\n",
    "\n",
    "# Import QISKit classes\n",
    "import qiskit\n",
    "from qiskit import QuantumRegister, QuantumCircuit, Aer\n",
    "from qiskit.quantum_info import state_fidelity\n",
    "from qiskit.tools.qi.qi import outer\n",
    "\n",
    "# Tomography functions\n",
    "import sys, os\n",
    "sys.path.append(os.path.abspath(os.path.join('../qiskit_ignis')))\n",
    "import tomography as tomo"
   ]
  },
  {
   "cell_type": "markdown",
   "metadata": {},
   "source": [
    "## 1-qubit process tomography example"
   ]
  },
  {
   "cell_type": "code",
   "execution_count": 2,
   "metadata": {},
   "outputs": [
    {
     "data": {
      "text/plain": [
       "{(('Zp',), ('X',)): {'0': 4000},\n",
       " (('Zp',), ('Y',)): {'1': 1939, '0': 2061},\n",
       " (('Zp',), ('Z',)): {'1': 2000, '0': 2000},\n",
       " (('Zm',), ('X',)): {'1': 4000},\n",
       " (('Zm',), ('Y',)): {'1': 2027, '0': 1973},\n",
       " (('Zm',), ('Z',)): {'1': 2055, '0': 1945},\n",
       " (('Xp',), ('X',)): {'1': 1988, '0': 2012},\n",
       " (('Xp',), ('Y',)): {'1': 2026, '0': 1974},\n",
       " (('Xp',), ('Z',)): {'0': 4000},\n",
       " (('Yp',), ('X',)): {'1': 1954, '0': 2046},\n",
       " (('Yp',), ('Y',)): {'1': 4000},\n",
       " (('Yp',), ('Z',)): {'1': 1997, '0': 2003}}"
      ]
     },
     "execution_count": 2,
     "metadata": {},
     "output_type": "execute_result"
    }
   ],
   "source": [
    "# Process tomography of a Hadamard gate\n",
    "q = QuantumRegister(1)\n",
    "circ = QuantumCircuit(q)\n",
    "circ.h(q[0])\n",
    "\n",
    "# Run circuit on unitary simulator to find ideal unitary\n",
    "job = qiskit.execute(circ, Aer.get_backend('unitary_simulator'))\n",
    "ideal_unitary = job.result().get_unitary(circ)\n",
    "# convert to Choi-matrix in column-major convention\n",
    "choi_ideal = outer(ideal_unitary.ravel(order='F'))\n",
    "\n",
    "# Generate process tomography circuits and run on qasm simulator\n",
    "qpt_circs = tomo.process_tomography_circuits(circ, q)\n",
    "job = qiskit.execute(qpt_circs, Aer.get_backend('qasm_simulator'), shots=4000)\n",
    "\n",
    "# Extract tomography data so that counts are indexed by measurement configuration\n",
    "qpt_counts = tomo.tomography_data(job.result(), qpt_circs)\n",
    "qpt_counts"
   ]
  },
  {
   "cell_type": "code",
   "execution_count": 3,
   "metadata": {},
   "outputs": [
    {
     "name": "stdout",
     "output_type": "stream",
     "text": [
      "MLE Fitter\n",
      "fit time: 0.0020859241485595703\n",
      "fit fidelity: 0.997590633666101\n",
      "\n",
      "CVXOPT Fitter\n",
      "fit time: 0.0689091682434082\n",
      "fit fidelity: 0.9999069096855673\n"
     ]
    }
   ],
   "source": [
    "# Extract fitter data from tomography counts\n",
    "data, basis, weights = tomo.fitter_data(qpt_counts)\n",
    "\n",
    "# MLE Least-Squares tomographic reconstruction\n",
    "t = time.time()\n",
    "choi_mle = tomo.process_mle_fit(data, basis, weights)\n",
    "print('MLE Fitter')\n",
    "print('fit time:', time.time() - t)\n",
    "print('fit fidelity:', state_fidelity(choi_ideal / 2, choi_mle / 2))\n",
    "\n",
    "# CVXOPT Semidefinite-Program tomographic reconstruction\n",
    "t = time.time()\n",
    "choi_cvx = tomo.process_cvx_fit(data, basis, weights)\n",
    "print('\\nCVXOPT Fitter')\n",
    "print('fit time:', time.time() - t)\n",
    "print('fit fidelity:', state_fidelity(choi_ideal / 2, choi_cvx / 2))"
   ]
  },
  {
   "cell_type": "markdown",
   "metadata": {},
   "source": [
    "## 1-qubit process tomography of two-qubit swap gate\n",
    "\n",
    "We will prepare qubit-0 and measure qubit-1 so the reconstructed channel should be an identity"
   ]
  },
  {
   "cell_type": "code",
   "execution_count": 4,
   "metadata": {},
   "outputs": [
    {
     "data": {
      "text/plain": [
       "{(('Zp',), ('X',)): {'1': 1004, '0': 996},\n",
       " (('Zp',), ('Y',)): {'1': 1030, '0': 970},\n",
       " (('Zp',), ('Z',)): {'0': 2000},\n",
       " (('Zm',), ('X',)): {'1': 1001, '0': 999},\n",
       " (('Zm',), ('Y',)): {'1': 1009, '0': 991},\n",
       " (('Zm',), ('Z',)): {'1': 2000},\n",
       " (('Xp',), ('X',)): {'0': 2000},\n",
       " (('Xp',), ('Y',)): {'1': 1051, '0': 949},\n",
       " (('Xp',), ('Z',)): {'1': 959, '0': 1041},\n",
       " (('Yp',), ('X',)): {'1': 1017, '0': 983},\n",
       " (('Yp',), ('Y',)): {'0': 2000},\n",
       " (('Yp',), ('Z',)): {'1': 983, '0': 1017}}"
      ]
     },
     "execution_count": 4,
     "metadata": {},
     "output_type": "execute_result"
    }
   ],
   "source": [
    "# Process tomography of a Hadamard gate\n",
    "q = QuantumRegister(2)\n",
    "circ = QuantumCircuit(q)\n",
    "circ.swap(q[0], q[1])\n",
    "\n",
    "# Ideal channel is a unitary\n",
    "ideal_unitary = np.eye(2)\n",
    "choi_ideal = outer(ideal_unitary.ravel(order='F'))\n",
    "\n",
    "# Generate process tomography circuits and run on qasm simulator\n",
    "# We use the optional prepared_qubits kwarg to specify that the prepared qubit was different to measured qubit\n",
    "qpt_circs = tomo.process_tomography_circuits(circ, q[1], prepared_qubits=q[0])\n",
    "job = qiskit.execute(qpt_circs, Aer.get_backend('qasm_simulator'), shots=2000)\n",
    "\n",
    "# Extract tomography data so that counts are indexed by measurement configuration\n",
    "qpt_counts = tomo.tomography_data(job.result(), qpt_circs)\n",
    "qpt_counts"
   ]
  },
  {
   "cell_type": "code",
   "execution_count": 5,
   "metadata": {},
   "outputs": [
    {
     "name": "stdout",
     "output_type": "stream",
     "text": [
      "MLE Fitter\n",
      "fit time: 0.0016489028930664062\n",
      "fit fidelity: 0.9956636821737574\n",
      "\n",
      "CVXOPT Fitter\n",
      "fit time: 0.04913496971130371\n",
      "fit fidelity: 0.9998733339639942\n"
     ]
    }
   ],
   "source": [
    "# Extract fitter data from tomography counts\n",
    "data, basis, weights = tomo.fitter_data(qpt_counts)\n",
    "\n",
    "# MLE Least-Squares tomographic reconstruction\n",
    "t = time.time()\n",
    "choi_mle = tomo.process_mle_fit(data, basis, weights)\n",
    "print('MLE Fitter')\n",
    "print('fit time:', time.time() - t)\n",
    "print('fit fidelity:', state_fidelity(choi_ideal / 2, choi_mle / 2))\n",
    "\n",
    "# CVXOPT Semidefinite-Program tomographic reconstruction\n",
    "t = time.time()\n",
    "choi_cvx = tomo.process_cvx_fit(data, basis, weights)\n",
    "print('\\nCVXOPT Fitter')\n",
    "print('fit time:', time.time() - t)\n",
    "print('fit fidelity:', state_fidelity(choi_ideal / 2, choi_cvx / 2))"
   ]
  },
  {
   "cell_type": "markdown",
   "metadata": {},
   "source": [
    "## 2-Qubit entangling circuit"
   ]
  },
  {
   "cell_type": "code",
   "execution_count": 6,
   "metadata": {},
   "outputs": [
    {
     "name": "stdout",
     "output_type": "stream",
     "text": [
      "MLE Fitter\n",
      "fit time: 0.04810309410095215\n",
      "fit fidelity: 0.980639219412798\n",
      "\n",
      "CVXOPT Fitter\n",
      "fit time: 1.859253168106079\n",
      "fit fidelity: 0.9999333155090061\n"
     ]
    }
   ],
   "source": [
    "# Bell-state entangling circuit\n",
    "q = QuantumRegister(2)\n",
    "circ = QuantumCircuit(q)\n",
    "circ.h(q[0])\n",
    "circ.cx(q[0], q[1])\n",
    "\n",
    "# Run circuit on unitary simulator to find ideal unitary\n",
    "job = qiskit.execute(circ, Aer.get_backend('unitary_simulator'))\n",
    "ideal_unitary = job.result().get_unitary(circ)\n",
    "# convert to Choi-matrix in column-major convention\n",
    "choi_ideal = outer(ideal_unitary.ravel(order='F'))\n",
    "\n",
    "# Generate process tomography circuits and run on qasm simulator\n",
    "qpt_circs = tomo.process_tomography_circuits(circ, q)\n",
    "job = qiskit.execute(qpt_circs, Aer.get_backend('qasm_simulator'), shots=2000)\n",
    "\n",
    "# Extract tomography data so that counts are indexed by measurement configuration\n",
    "qpt_counts = tomo.tomography_data(job.result(), qpt_circs)\n",
    "\n",
    "# Extract fitter data from tomography counts\n",
    "data, basis, weights = tomo.fitter_data(qpt_counts)\n",
    "\n",
    "\n",
    "t = time.time()\n",
    "choi_mle = tomo.process_mle_fit(data, basis, weights)\n",
    "print('MLE Fitter')\n",
    "print('fit time:', time.time() - t)\n",
    "print('fit fidelity:', state_fidelity(choi_ideal / 4, choi_mle / 4))\n",
    "\n",
    "t = time.time()\n",
    "choi_cvx = tomo.process_cvx_fit(data, basis, weights)\n",
    "print('\\nCVXOPT Fitter')\n",
    "print('fit time:', time.time() - t)\n",
    "print('fit fidelity:', state_fidelity(choi_ideal / 4, choi_cvx / 4))"
   ]
  },
  {
   "cell_type": "markdown",
   "metadata": {},
   "source": [
    "## Using SIC-POVM preparation basis"
   ]
  },
  {
   "cell_type": "code",
   "execution_count": 7,
   "metadata": {},
   "outputs": [
    {
     "data": {
      "text/plain": [
       "{(('S0',), ('X',)): {'0': 2000},\n",
       " (('S0',), ('Y',)): {'1': 1017, '0': 983},\n",
       " (('S0',), ('Z',)): {'1': 965, '0': 1035},\n",
       " (('S1',), ('X',)): {'1': 1323, '0': 677},\n",
       " (('S1',), ('Y',)): {'1': 990, '0': 1010},\n",
       " (('S1',), ('Z',)): {'1': 50, '0': 1950},\n",
       " (('S2',), ('X',)): {'1': 1361, '0': 639},\n",
       " (('S2',), ('Y',)): {'1': 166, '0': 1834},\n",
       " (('S2',), ('Z',)): {'1': 1477, '0': 523},\n",
       " (('S3',), ('X',)): {'1': 1324, '0': 676},\n",
       " (('S3',), ('Y',)): {'1': 1822, '0': 178},\n",
       " (('S3',), ('Z',)): {'1': 1472, '0': 528}}"
      ]
     },
     "execution_count": 7,
     "metadata": {},
     "output_type": "execute_result"
    }
   ],
   "source": [
    "# Process tomography of a Hadamard gate\n",
    "q = QuantumRegister(1)\n",
    "circ = QuantumCircuit(q)\n",
    "circ.h(q[0])\n",
    "\n",
    "# Run circuit on unitary simulator to find ideal unitary\n",
    "job = qiskit.execute(circ, Aer.get_backend('unitary_simulator'))\n",
    "ideal_unitary = job.result().get_unitary(circ)\n",
    "# convert to Choi-matrix in column-major convention\n",
    "choi_ideal = outer(ideal_unitary.ravel(order='F'))\n",
    "\n",
    "# Generate process tomography circuits and run on qasm simulator\n",
    "qpt_circs = tomo.process_tomography_circuits(circ, q, prep_labels='SIC', prep_basis='SIC')\n",
    "job = qiskit.execute(qpt_circs, Aer.get_backend('qasm_simulator'), shots=2000)\n",
    "\n",
    "# Extract tomography data so that counts are indexed by measurement configuration\n",
    "qpt_counts = tomo.tomography_data(job.result(), qpt_circs)\n",
    "qpt_counts"
   ]
  },
  {
   "cell_type": "code",
   "execution_count": 8,
   "metadata": {},
   "outputs": [
    {
     "name": "stdout",
     "output_type": "stream",
     "text": [
      "MLE Fitter\n",
      "fit time: 0.0010979175567626953\n",
      "fit fidelity: 0.9968067115276925\n",
      "\n",
      "CVXOPT Fitter\n",
      "fit time: 0.0597996711730957\n",
      "fit fidelity: 0.9999870911602211\n"
     ]
    }
   ],
   "source": [
    "# Extract fitter data from tomography counts\n",
    "data, basis, weights = tomo.fitter_data(qpt_counts, prep_basis='SIC')\n",
    "\n",
    "# MLE Least-Squares tomographic reconstruction\n",
    "t = time.time()\n",
    "choi_mle = tomo.process_mle_fit(data, basis, weights)\n",
    "print('MLE Fitter')\n",
    "print('fit time:', time.time() - t)\n",
    "print('fit fidelity:', state_fidelity(choi_ideal / 2, choi_mle / 2))\n",
    "\n",
    "# CVXOPT Semidefinite-Program tomographic reconstruction\n",
    "t = time.time()\n",
    "choi_cvx = tomo.process_cvx_fit(data, basis, weights)\n",
    "\n",
    "print('\\nCVXOPT Fitter')\n",
    "print('fit time:', time.time() - t)\n",
    "print('fit fidelity:', state_fidelity(choi_ideal / 2, choi_cvx / 2))"
   ]
  }
 ],
 "metadata": {
  "kernelspec": {
   "display_name": "Python 3",
   "language": "python",
   "name": "python3"
  },
  "language_info": {
   "codemirror_mode": {
    "name": "ipython",
    "version": 3
   },
   "file_extension": ".py",
   "mimetype": "text/x-python",
   "name": "python",
   "nbconvert_exporter": "python",
   "pygments_lexer": "ipython3",
   "version": "3.6.8"
  }
 },
 "nbformat": 4,
 "nbformat_minor": 2
}
