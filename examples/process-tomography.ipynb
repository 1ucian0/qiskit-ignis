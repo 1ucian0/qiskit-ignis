{
 "cells": [
  {
   "cell_type": "markdown",
   "metadata": {},
   "source": [
    "# Quantum Process Tomography\n",
    "\n",
    "* **Author:** Christopher J. Wood (cjwood@us.ibm.com)\n",
    "* **Last Updated:** May 15, 2018 "
   ]
  },
  {
   "cell_type": "code",
   "execution_count": 1,
   "metadata": {
    "collapsed": true
   },
   "outputs": [],
   "source": [
    "# Needed for functions\n",
    "import numpy as np\n",
    "import time\n",
    "\n",
    "# Import QISKit classes\n",
    "import qiskit\n",
    "from qiskit import QuantumRegister, QuantumCircuit\n",
    "from qiskit.tools.qi.qi import state_fidelity, outer\n",
    "\n",
    "# Tomography functions\n",
    "import sys, os\n",
    "sys.path.append(os.path.abspath(os.path.join('../qiskit_ignis')))\n",
    "import tomography as tomo"
   ]
  },
  {
   "cell_type": "markdown",
   "metadata": {},
   "source": [
    "## 1-qubit process tomography example"
   ]
  },
  {
   "cell_type": "code",
   "execution_count": 8,
   "metadata": {},
   "outputs": [
    {
     "data": {
      "text/plain": [
       "{(('X',), ('Zp',)): {'0': 2000},\n",
       " (('Y',), ('Zp',)): {'0': 1040, '1': 960},\n",
       " (('Z',), ('Zp',)): {'0': 1005, '1': 995},\n",
       " (('X',), ('Zm',)): {'1': 2000},\n",
       " (('Y',), ('Zm',)): {'0': 1010, '1': 990},\n",
       " (('Z',), ('Zm',)): {'0': 972, '1': 1028},\n",
       " (('X',), ('Xp',)): {'0': 999, '1': 1001},\n",
       " (('Y',), ('Xp',)): {'0': 1005, '1': 995},\n",
       " (('Z',), ('Xp',)): {'0': 2000},\n",
       " (('X',), ('Yp',)): {'0': 1009, '1': 991},\n",
       " (('Y',), ('Yp',)): {'1': 2000},\n",
       " (('Z',), ('Yp',)): {'0': 1027, '1': 973}}"
      ]
     },
     "execution_count": 8,
     "metadata": {},
     "output_type": "execute_result"
    }
   ],
   "source": [
    "# Process tomography of a Hadamard gate\n",
    "q = QuantumRegister(1)\n",
    "circ = QuantumCircuit(q)\n",
    "circ.h(q[0])\n",
    "\n",
    "# Run circuit on unitary simulator to find ideal unitary\n",
    "job = qiskit.execute(circ, 'local_unitary_simulator')\n",
    "ideal_unitary = job.result().get_data(circ).get('unitary')\n",
    "# convert to Choi-matrix in column-major convention\n",
    "choi_ideal = outer(ideal_unitary.ravel(order='F'))\n",
    "\n",
    "# Generate process tomography circuits and run on qasm simulator\n",
    "qpt_circs = tomo.process_tomography_circuits(circ, q)\n",
    "job = qiskit.execute(qpt_circs, 'local_qasm_simulator', shots=2000)\n",
    "\n",
    "# Extract tomography data so that counts are indexed by measurement configuration\n",
    "qpt_counts = tomo.tomography_data(job.result(), qpt_circs)\n",
    "qpt_counts"
   ]
  },
  {
   "cell_type": "code",
   "execution_count": 9,
   "metadata": {},
   "outputs": [
    {
     "name": "stdout",
     "output_type": "stream",
     "text": [
      "MLE Fitter\n",
      "fit time: 0.007817983627319336\n",
      "fit fidelity: 0.9969457800217439\n",
      "\n",
      "CVXOPT Fitter\n",
      "fit time: 0.07792878150939941\n",
      "fit fidelity: 1.0000356207534116\n"
     ]
    }
   ],
   "source": [
    "# Extract fitter data from tomography counts\n",
    "data, basis = tomo.fitter_data(qpt_counts)\n",
    "\n",
    "# MLE Least-Squares tomographic reconstruction\n",
    "t = time.time()\n",
    "choi_mle = tomo.mle_fit(data, basis, trace=2)\n",
    "print('MLE Fitter')\n",
    "print('fit time:', time.time() - t)\n",
    "print('fit fidelity:', state_fidelity(choi_ideal / 2, choi_mle / 2))\n",
    "\n",
    "# CVXOPT Semidefinite-Program tomographic reconstruction\n",
    "t = time.time()\n",
    "choi_cvx = tomo.cvx_fit(data, basis,\n",
    "                        trace_preserving=True,\n",
    "                        trace=2)\n",
    "\n",
    "print('\\nCVXOPT Fitter')\n",
    "print('fit time:', time.time() - t)\n",
    "print('fit fidelity:', state_fidelity(choi_ideal / 2, choi_cvx / 2))"
   ]
  },
  {
   "cell_type": "markdown",
   "metadata": {},
   "source": [
    "## 2-Qubit entangling circuit"
   ]
  },
  {
   "cell_type": "code",
   "execution_count": 10,
   "metadata": {},
   "outputs": [
    {
     "name": "stdout",
     "output_type": "stream",
     "text": [
      "MLE Fitter\n",
      "fit time: 0.07346296310424805\n",
      "fit fidelity: 0.9985959480281283\n",
      "\n",
      "CVXOPT Fitter\n",
      "fit time: 1.4449901580810547\n",
      "fit fidelity: 0.9999260271222195\n"
     ]
    }
   ],
   "source": [
    "# Bell-state entangling circuit\n",
    "q = QuantumRegister(2)\n",
    "circ = QuantumCircuit(q)\n",
    "circ.h(q[0])\n",
    "circ.cx(q[0], q[1])\n",
    "\n",
    "# Run circuit on unitary simulator to find ideal unitary\n",
    "job = qiskit.execute(circ, 'local_unitary_simulator')\n",
    "ideal_unitary = job.result().get_data(circ).get('unitary')\n",
    "# convert to Choi-matrix in column-major convention\n",
    "choi_ideal = outer(ideal_unitary.ravel(order='F'))\n",
    "\n",
    "# Generate process tomography circuits and run on qasm simulator\n",
    "qpt_circs = tomo.process_tomography_circuits(circ, q)\n",
    "job = qiskit.execute(qpt_circs, 'local_qasm_simulator', shots=2000)\n",
    "\n",
    "# Extract tomography data so that counts are indexed by measurement configuration\n",
    "qpt_counts = tomo.tomography_data(job.result(), qpt_circs)\n",
    "\n",
    "# Extract fitter data from tomography counts\n",
    "data, basis = tomo.fitter_data(qpt_counts)\n",
    "\n",
    "\n",
    "t = time.time()\n",
    "choi_mle = tomo.mle_fit(data, basis,PSD=False, trace=4)\n",
    "print('MLE Fitter')\n",
    "print('fit time:', time.time() - t)\n",
    "print('fit fidelity:', state_fidelity(choi_ideal / 4, choi_mle / 4))\n",
    "\n",
    "t = time.time()\n",
    "choi_cvx = tomo.cvx_fit(data, basis,\n",
    "                        PSD=True,\n",
    "                        trace_preserving=True,\n",
    "                        solver='CVXOPT')\n",
    "print('\\nCVXOPT Fitter')\n",
    "print('fit time:', time.time() - t)\n",
    "print('fit fidelity:', state_fidelity(choi_ideal / 4, choi_cvx / 4))"
   ]
  },
  {
   "cell_type": "markdown",
   "metadata": {},
   "source": [
    "## Using SIC-POVM preparation basis"
   ]
  },
  {
   "cell_type": "code",
   "execution_count": 13,
   "metadata": {},
   "outputs": [
    {
     "data": {
      "text/plain": [
       "{(('X',), ('S0',)): {'0': 2000},\n",
       " (('Y',), ('S0',)): {'0': 1036, '1': 964},\n",
       " (('Z',), ('S0',)): {'0': 988, '1': 1012},\n",
       " (('X',), ('S1',)): {'0': 610, '1': 1390},\n",
       " (('Y',), ('S1',)): {'0': 989, '1': 1011},\n",
       " (('Z',), ('S1',)): {'0': 1942, '1': 58},\n",
       " (('X',), ('S2',)): {'0': 694, '1': 1306},\n",
       " (('Y',), ('S2',)): {'0': 1806, '1': 194},\n",
       " (('Z',), ('S2',)): {'0': 553, '1': 1447},\n",
       " (('X',), ('S3',)): {'0': 690, '1': 1310},\n",
       " (('Y',), ('S3',)): {'0': 189, '1': 1811},\n",
       " (('Z',), ('S3',)): {'0': 520, '1': 1480}}"
      ]
     },
     "execution_count": 13,
     "metadata": {},
     "output_type": "execute_result"
    }
   ],
   "source": [
    "# Process tomography of a Hadamard gate\n",
    "q = QuantumRegister(1)\n",
    "circ = QuantumCircuit(q)\n",
    "circ.h(q[0])\n",
    "\n",
    "# Run circuit on unitary simulator to find ideal unitary\n",
    "job = qiskit.execute(circ, 'local_unitary_simulator')\n",
    "ideal_unitary = job.result().get_data(circ).get('unitary')\n",
    "# convert to Choi-matrix in column-major convention\n",
    "choi_ideal = outer(ideal_unitary.ravel(order='F'))\n",
    "\n",
    "# Generate process tomography circuits and run on qasm simulator\n",
    "qpt_circs = tomo.tomography_circuits(circ, q, prep_labels='SIC', prep_basis='SIC')\n",
    "job = qiskit.execute(qpt_circs, 'local_qasm_simulator', shots=2000)\n",
    "\n",
    "# Extract tomography data so that counts are indexed by measurement configuration\n",
    "qpt_counts = tomo.tomography_data(job.result(), qpt_circs)\n",
    "qpt_counts"
   ]
  },
  {
   "cell_type": "code",
   "execution_count": 15,
   "metadata": {},
   "outputs": [
    {
     "name": "stdout",
     "output_type": "stream",
     "text": [
      "MLE Fitter\n",
      "fit time: 0.013880014419555664\n",
      "fit fidelity: 0.9875806749111135\n",
      "\n",
      "CVXOPT Fitter\n",
      "fit time: 0.10106420516967773\n",
      "fit fidelity: 0.9943818659624815\n"
     ]
    }
   ],
   "source": [
    "# Extract fitter data from tomography counts\n",
    "data, basis = tomo.fitter_data(qpt_counts, prep_basis='SIC')\n",
    "\n",
    "# MLE Least-Squares tomographic reconstruction\n",
    "t = time.time()\n",
    "choi_mle = tomo.mle_fit(data, basis, trace=2)\n",
    "print('MLE Fitter')\n",
    "print('fit time:', time.time() - t)\n",
    "print('fit fidelity:', state_fidelity(choi_ideal / 2, choi_mle / 2))\n",
    "\n",
    "# CVXOPT Semidefinite-Program tomographic reconstruction\n",
    "t = time.time()\n",
    "choi_cvx = tomo.cvx_fit(data, basis, trace_preserving=True)\n",
    "\n",
    "print('\\nCVXOPT Fitter')\n",
    "print('fit time:', time.time() - t)\n",
    "print('fit fidelity:', state_fidelity(choi_ideal / 2, choi_cvx / 2))"
   ]
  },
  {
   "cell_type": "code",
   "execution_count": null,
   "metadata": {
    "collapsed": true
   },
   "outputs": [],
   "source": []
  }
 ],
 "metadata": {
  "kernelspec": {
   "display_name": "Python (cvx)",
   "language": "python",
   "name": "cvx"
  },
  "language_info": {
   "codemirror_mode": {
    "name": "ipython",
    "version": 3
   },
   "file_extension": ".py",
   "mimetype": "text/x-python",
   "name": "python",
   "nbconvert_exporter": "python",
   "pygments_lexer": "ipython3",
   "version": "3.6.5"
  }
 },
 "nbformat": 4,
 "nbformat_minor": 2
}
