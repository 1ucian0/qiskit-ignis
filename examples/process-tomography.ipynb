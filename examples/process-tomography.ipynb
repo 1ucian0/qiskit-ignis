{
 "cells": [
  {
   "cell_type": "markdown",
   "metadata": {},
   "source": [
    "# Quantum Process Tomography\n",
    "\n",
    "* **Author:** Christopher J. Wood (cjwood@us.ibm.com)\n",
    "* **Last Updated:** November 8, 2018 "
   ]
  },
  {
   "cell_type": "code",
   "execution_count": 1,
   "metadata": {
    "collapsed": true
   },
   "outputs": [],
   "source": [
    "# Needed for functions\n",
    "import numpy as np\n",
    "import time\n",
    "\n",
    "# Import QISKit classes\n",
    "import qiskit\n",
    "from qiskit import QuantumRegister, QuantumCircuit, Aer\n",
    "from qiskit.tools.qi.qi import state_fidelity, outer\n",
    "\n",
    "# Tomography functions\n",
    "import sys, os\n",
    "sys.path.append(os.path.abspath(os.path.join('../qiskit_ignis')))\n",
    "import tomography as tomo"
   ]
  },
  {
   "cell_type": "markdown",
   "metadata": {},
   "source": [
    "## 1-qubit process tomography example"
   ]
  },
  {
   "cell_type": "code",
   "execution_count": 2,
   "metadata": {},
   "outputs": [
    {
     "data": {
      "text/plain": [
       "{(('X',), ('Zp',)): {'0': 2000},\n",
       " (('Y',), ('Zp',)): {'0': 1004, '1': 996},\n",
       " (('Z',), ('Zp',)): {'0': 999, '1': 1001},\n",
       " (('X',), ('Zm',)): {'1': 2000},\n",
       " (('Y',), ('Zm',)): {'0': 988, '1': 1012},\n",
       " (('Z',), ('Zm',)): {'0': 1021, '1': 979},\n",
       " (('X',), ('Xp',)): {'0': 1008, '1': 992},\n",
       " (('Y',), ('Xp',)): {'0': 1023, '1': 977},\n",
       " (('Z',), ('Xp',)): {'0': 2000},\n",
       " (('X',), ('Yp',)): {'0': 1013, '1': 987},\n",
       " (('Y',), ('Yp',)): {'1': 2000},\n",
       " (('Z',), ('Yp',)): {'0': 1012, '1': 988}}"
      ]
     },
     "execution_count": 2,
     "metadata": {},
     "output_type": "execute_result"
    }
   ],
   "source": [
    "# Process tomography of a Hadamard gate\n",
    "q = QuantumRegister(1)\n",
    "circ = QuantumCircuit(q)\n",
    "circ.h(q[0])\n",
    "\n",
    "# Run circuit on unitary simulator to find ideal unitary\n",
    "job = qiskit.execute(circ, Aer.get_backend('unitary_simulator'))\n",
    "ideal_unitary = job.result().get_data(circ).get('unitary')\n",
    "# convert to Choi-matrix in column-major convention\n",
    "choi_ideal = outer(ideal_unitary.ravel(order='F'))\n",
    "\n",
    "# Generate process tomography circuits and run on qasm simulator\n",
    "qpt_circs = tomo.process_tomography_circuits(circ, q)\n",
    "job = qiskit.execute(qpt_circs, Aer.get_backend('qasm_simulator'), shots=2000)\n",
    "\n",
    "# Extract tomography data so that counts are indexed by measurement configuration\n",
    "qpt_counts = tomo.tomography_data(job.result(), qpt_circs)\n",
    "qpt_counts"
   ]
  },
  {
   "cell_type": "code",
   "execution_count": 3,
   "metadata": {},
   "outputs": [
    {
     "name": "stdout",
     "output_type": "stream",
     "text": [
      "MLE Fitter\n",
      "fit time: 0.16708779335021973\n",
      "fit fidelity: 0.9940903425322384\n",
      "\n",
      "CVXOPT Fitter\n",
      "fit time: 0.19166779518127441\n",
      "fit fidelity: 0.999897980786586\n"
     ]
    }
   ],
   "source": [
    "# Extract fitter data from tomography counts\n",
    "data, basis = tomo.fitter_data(qpt_counts)\n",
    "\n",
    "# MLE Least-Squares tomographic reconstruction\n",
    "t = time.time()\n",
    "choi_mle = tomo.process_mle_fit(data, basis)\n",
    "print('MLE Fitter')\n",
    "print('fit time:', time.time() - t)\n",
    "print('fit fidelity:', state_fidelity(choi_ideal / 2, choi_mle / 2))\n",
    "\n",
    "# CVXOPT Semidefinite-Program tomographic reconstruction\n",
    "t = time.time()\n",
    "choi_cvx = tomo.fitters.cvx_fit(data, basis, PSD=True, trace_preserving=True, trace=2)\n",
    "choi_cvx = tomo.process_cvx_fit(data, basis)\n",
    "print('\\nCVXOPT Fitter')\n",
    "print('fit time:', time.time() - t)\n",
    "print('fit fidelity:', state_fidelity(choi_ideal / 2, choi_cvx / 2))"
   ]
  },
  {
   "cell_type": "markdown",
   "metadata": {},
   "source": [
    "## 2-Qubit entangling circuit"
   ]
  },
  {
   "cell_type": "code",
   "execution_count": 5,
   "metadata": {},
   "outputs": [
    {
     "name": "stdout",
     "output_type": "stream",
     "text": [
      "MLE Fitter\n",
      "fit time: 0.04325985908508301\n",
      "fit fidelity: 0.986192298563409\n",
      "\n",
      "CVXOPT Fitter\n",
      "fit time: 1.4843859672546387\n",
      "fit fidelity: 0.9999431082785937\n"
     ]
    }
   ],
   "source": [
    "# Bell-state entangling circuit\n",
    "q = QuantumRegister(2)\n",
    "circ = QuantumCircuit(q)\n",
    "circ.h(q[0])\n",
    "circ.cx(q[0], q[1])\n",
    "\n",
    "# Run circuit on unitary simulator to find ideal unitary\n",
    "job = qiskit.execute(circ, Aer.get_backend('unitary_simulator'))\n",
    "ideal_unitary = job.result().get_data(circ).get('unitary')\n",
    "# convert to Choi-matrix in column-major convention\n",
    "choi_ideal = outer(ideal_unitary.ravel(order='F'))\n",
    "\n",
    "# Generate process tomography circuits and run on qasm simulator\n",
    "qpt_circs = tomo.process_tomography_circuits(circ, q)\n",
    "job = qiskit.execute(qpt_circs, Aer.get_backend('qasm_simulator'), shots=2000)\n",
    "\n",
    "# Extract tomography data so that counts are indexed by measurement configuration\n",
    "qpt_counts = tomo.tomography_data(job.result(), qpt_circs)\n",
    "\n",
    "# Extract fitter data from tomography counts\n",
    "data, basis = tomo.fitter_data(qpt_counts)\n",
    "\n",
    "\n",
    "t = time.time()\n",
    "choi_mle = tomo.process_mle_fit(data, basis)\n",
    "print('MLE Fitter')\n",
    "print('fit time:', time.time() - t)\n",
    "print('fit fidelity:', state_fidelity(choi_ideal / 4, choi_mle / 4))\n",
    "\n",
    "t = time.time()\n",
    "choi_cvx = tomo.process_cvx_fit(data, basis)\n",
    "print('\\nCVXOPT Fitter')\n",
    "print('fit time:', time.time() - t)\n",
    "print('fit fidelity:', state_fidelity(choi_ideal / 4, choi_cvx / 4))"
   ]
  },
  {
   "cell_type": "markdown",
   "metadata": {},
   "source": [
    "## Using SIC-POVM preparation basis"
   ]
  },
  {
   "cell_type": "code",
   "execution_count": 6,
   "metadata": {},
   "outputs": [
    {
     "data": {
      "text/plain": [
       "{(('X',), ('S0',)): {'0': 2000},\n",
       " (('Y',), ('S0',)): {'0': 1051, '1': 949},\n",
       " (('Z',), ('S0',)): {'0': 980, '1': 1020},\n",
       " (('X',), ('S1',)): {'0': 640, '1': 1360},\n",
       " (('Y',), ('S1',)): {'0': 1015, '1': 985},\n",
       " (('Z',), ('S1',)): {'0': 1943, '1': 57},\n",
       " (('X',), ('S2',)): {'0': 680, '1': 1320},\n",
       " (('Y',), ('S2',)): {'0': 1838, '1': 162},\n",
       " (('Z',), ('S2',)): {'0': 508, '1': 1492},\n",
       " (('X',), ('S3',)): {'0': 638, '1': 1362},\n",
       " (('Y',), ('S3',)): {'0': 171, '1': 1829},\n",
       " (('Z',), ('S3',)): {'0': 550, '1': 1450}}"
      ]
     },
     "execution_count": 6,
     "metadata": {},
     "output_type": "execute_result"
    }
   ],
   "source": [
    "# Process tomography of a Hadamard gate\n",
    "q = QuantumRegister(1)\n",
    "circ = QuantumCircuit(q)\n",
    "circ.h(q[0])\n",
    "\n",
    "# Run circuit on unitary simulator to find ideal unitary\n",
    "job = qiskit.execute(circ, Aer.get_backend('unitary_simulator'))\n",
    "ideal_unitary = job.result().get_data(circ).get('unitary')\n",
    "# convert to Choi-matrix in column-major convention\n",
    "choi_ideal = outer(ideal_unitary.ravel(order='F'))\n",
    "\n",
    "# Generate process tomography circuits and run on qasm simulator\n",
    "qpt_circs = tomo.tomography_circuits(circ, q, prep_labels='SIC', prep_basis='SIC')\n",
    "job = qiskit.execute(qpt_circs, Aer.get_backend('qasm_simulator'), shots=2000)\n",
    "\n",
    "# Extract tomography data so that counts are indexed by measurement configuration\n",
    "qpt_counts = tomo.tomography_data(job.result(), qpt_circs)\n",
    "qpt_counts"
   ]
  },
  {
   "cell_type": "code",
   "execution_count": 7,
   "metadata": {},
   "outputs": [
    {
     "name": "stdout",
     "output_type": "stream",
     "text": [
      "MLE Fitter\n",
      "fit time: 0.002238035202026367\n",
      "fit fidelity: 0.9947095142519727\n",
      "\n",
      "CVXOPT Fitter\n",
      "fit time: 0.040667057037353516\n",
      "fit fidelity: 0.9999304277236141\n"
     ]
    }
   ],
   "source": [
    "# Extract fitter data from tomography counts\n",
    "data, basis = tomo.fitter_data(qpt_counts, prep_basis='SIC')\n",
    "\n",
    "# MLE Least-Squares tomographic reconstruction\n",
    "t = time.time()\n",
    "choi_mle = tomo.process_mle_fit(data, basis)\n",
    "print('MLE Fitter')\n",
    "print('fit time:', time.time() - t)\n",
    "print('fit fidelity:', state_fidelity(choi_ideal / 2, choi_mle / 2))\n",
    "\n",
    "# CVXOPT Semidefinite-Program tomographic reconstruction\n",
    "t = time.time()\n",
    "choi_cvx = tomo.process_cvx_fit(data, basis)\n",
    "\n",
    "print('\\nCVXOPT Fitter')\n",
    "print('fit time:', time.time() - t)\n",
    "print('fit fidelity:', state_fidelity(choi_ideal / 2, choi_cvx / 2))"
   ]
  }
 ],
 "metadata": {
  "kernelspec": {
   "display_name": "Python (qiskit)",
   "language": "python",
   "name": "qiskit"
  },
  "language_info": {
   "codemirror_mode": {
    "name": "ipython",
    "version": 3
   },
   "file_extension": ".py",
   "mimetype": "text/x-python",
   "name": "python",
   "nbconvert_exporter": "python",
   "pygments_lexer": "ipython3",
   "version": "3.6.5"
  }
 },
 "nbformat": 4,
 "nbformat_minor": 2
}
