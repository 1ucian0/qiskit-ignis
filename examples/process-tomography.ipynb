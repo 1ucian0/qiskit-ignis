{
 "cells": [
  {
   "cell_type": "markdown",
   "metadata": {},
   "source": [
    "# Quantum Process Tomography\n",
    "\n",
    "* **Author:** Christopher J. Wood (cjwood@us.ibm.com)\n",
    "* **Last Updated:** November 8, 2018 "
   ]
  },
  {
   "cell_type": "code",
   "execution_count": 1,
   "metadata": {},
   "outputs": [],
   "source": [
    "# Needed for functions\n",
    "import numpy as np\n",
    "import time\n",
    "\n",
    "# Import QISKit classes\n",
    "import qiskit\n",
    "from qiskit import QuantumRegister, QuantumCircuit, Aer\n",
    "from qiskit.tools.qi.qi import state_fidelity, outer\n",
    "\n",
    "# Tomography functions\n",
    "import sys, os\n",
    "sys.path.append(os.path.abspath(os.path.join('../qiskit_ignis')))\n",
    "import tomography as tomo"
   ]
  },
  {
   "cell_type": "markdown",
   "metadata": {},
   "source": [
    "## 1-qubit process tomography example"
   ]
  },
  {
   "cell_type": "code",
   "execution_count": 2,
   "metadata": {},
   "outputs": [
    {
     "data": {
      "text/plain": [
       "{(('Zp',), ('X',)): {'0': 2000},\n",
       " (('Zp',), ('Y',)): {'0': 994, '1': 1006},\n",
       " (('Zp',), ('Z',)): {'0': 1035, '1': 965},\n",
       " (('Zm',), ('X',)): {'1': 2000},\n",
       " (('Zm',), ('Y',)): {'0': 1020, '1': 980},\n",
       " (('Zm',), ('Z',)): {'0': 1003, '1': 997},\n",
       " (('Xp',), ('X',)): {'0': 1008, '1': 992},\n",
       " (('Xp',), ('Y',)): {'0': 1005, '1': 995},\n",
       " (('Xp',), ('Z',)): {'0': 2000},\n",
       " (('Yp',), ('X',)): {'0': 994, '1': 1006},\n",
       " (('Yp',), ('Y',)): {'1': 2000},\n",
       " (('Yp',), ('Z',)): {'0': 991, '1': 1009}}"
      ]
     },
     "execution_count": 2,
     "metadata": {},
     "output_type": "execute_result"
    }
   ],
   "source": [
    "# Process tomography of a Hadamard gate\n",
    "q = QuantumRegister(1)\n",
    "circ = QuantumCircuit(q)\n",
    "circ.h(q[0])\n",
    "\n",
    "# Run circuit on unitary simulator to find ideal unitary\n",
    "job = qiskit.execute(circ, Aer.get_backend('unitary_simulator'))\n",
    "ideal_unitary = job.result().get_data(circ).get('unitary')\n",
    "# convert to Choi-matrix in column-major convention\n",
    "choi_ideal = outer(ideal_unitary.ravel(order='F'))\n",
    "\n",
    "# Generate process tomography circuits and run on qasm simulator\n",
    "qpt_circs = tomo.process_tomography_circuits(circ, q)\n",
    "job = qiskit.execute(qpt_circs, Aer.get_backend('qasm_simulator'), shots=2000)\n",
    "\n",
    "# Extract tomography data so that counts are indexed by measurement configuration\n",
    "qpt_counts = tomo.tomography_data(job.result(), qpt_circs)\n",
    "qpt_counts"
   ]
  },
  {
   "cell_type": "code",
   "execution_count": 3,
   "metadata": {},
   "outputs": [
    {
     "name": "stdout",
     "output_type": "stream",
     "text": [
      "MLE Fitter\n",
      "fit time: 0.18453288078308105\n",
      "fit fidelity: 0.9927010596006991\n",
      "\n",
      "CVXOPT Fitter\n",
      "fit time: 0.19291067123413086\n",
      "fit fidelity: 0.9999597125484156\n"
     ]
    }
   ],
   "source": [
    "# Extract fitter data from tomography counts\n",
    "data, basis = tomo.fitter_data(qpt_counts)\n",
    "\n",
    "# MLE Least-Squares tomographic reconstruction\n",
    "t = time.time()\n",
    "choi_mle = tomo.process_mle_fit(data, basis)\n",
    "print('MLE Fitter')\n",
    "print('fit time:', time.time() - t)\n",
    "print('fit fidelity:', state_fidelity(choi_ideal / 2, choi_mle / 2))\n",
    "\n",
    "# CVXOPT Semidefinite-Program tomographic reconstruction\n",
    "t = time.time()\n",
    "choi_cvx = tomo.fitters.cvx_fit(data, basis, PSD=True, trace_preserving=True, trace=2)\n",
    "choi_cvx = tomo.process_cvx_fit(data, basis)\n",
    "print('\\nCVXOPT Fitter')\n",
    "print('fit time:', time.time() - t)\n",
    "print('fit fidelity:', state_fidelity(choi_ideal / 2, choi_cvx / 2))"
   ]
  },
  {
   "cell_type": "markdown",
   "metadata": {},
   "source": [
    "## 1-qubit process tomography of two-qubit swap gate\n",
    "\n",
    "We will prepare qubit-0 and measure qubit-1 so the reconstructed channel should be an identity"
   ]
  },
  {
   "cell_type": "code",
   "execution_count": 6,
   "metadata": {},
   "outputs": [
    {
     "data": {
      "text/plain": [
       "{(('Zp',), ('X',)): {'0': 988, '1': 1012},\n",
       " (('Zp',), ('Y',)): {'0': 1037, '1': 963},\n",
       " (('Zp',), ('Z',)): {'0': 2000},\n",
       " (('Zm',), ('X',)): {'0': 1009, '1': 991},\n",
       " (('Zm',), ('Y',)): {'0': 1013, '1': 987},\n",
       " (('Zm',), ('Z',)): {'1': 2000},\n",
       " (('Xp',), ('X',)): {'0': 2000},\n",
       " (('Xp',), ('Y',)): {'0': 1013, '1': 987},\n",
       " (('Xp',), ('Z',)): {'0': 986, '1': 1014},\n",
       " (('Yp',), ('X',)): {'0': 1010, '1': 990},\n",
       " (('Yp',), ('Y',)): {'0': 2000},\n",
       " (('Yp',), ('Z',)): {'0': 1000, '1': 1000}}"
      ]
     },
     "execution_count": 6,
     "metadata": {},
     "output_type": "execute_result"
    }
   ],
   "source": [
    "# Process tomography of a Hadamard gate\n",
    "q = QuantumRegister(2)\n",
    "circ = QuantumCircuit(q)\n",
    "circ.swap(q[0], q[1])\n",
    "\n",
    "# Ideal channel is a unitary\n",
    "ideal_unitary = np.eye(2)\n",
    "choi_ideal = outer(ideal_unitary.ravel(order='F'))\n",
    "\n",
    "# Generate process tomography circuits and run on qasm simulator\n",
    "# We use the optional prepared_qubits kwarg to specify that the prepared qubit was different to measured qubit\n",
    "qpt_circs = tomo.process_tomography_circuits(circ, q[1], prepared_qubits=q[0])\n",
    "job = qiskit.execute(qpt_circs, Aer.get_backend('qasm_simulator'), shots=2000)\n",
    "\n",
    "# Extract tomography data so that counts are indexed by measurement configuration\n",
    "qpt_counts = tomo.tomography_data(job.result(), qpt_circs)\n",
    "qpt_counts"
   ]
  },
  {
   "cell_type": "code",
   "execution_count": 7,
   "metadata": {},
   "outputs": [
    {
     "name": "stdout",
     "output_type": "stream",
     "text": [
      "MLE Fitter\n",
      "fit time: 0.0010979175567626953\n",
      "fit fidelity: 0.98941644917301\n",
      "\n",
      "CVXOPT Fitter\n",
      "fit time: 0.09900617599487305\n",
      "fit fidelity: 0.9999237461111217\n"
     ]
    }
   ],
   "source": [
    "# Extract fitter data from tomography counts\n",
    "data, basis = tomo.fitter_data(qpt_counts)\n",
    "\n",
    "# MLE Least-Squares tomographic reconstruction\n",
    "t = time.time()\n",
    "choi_mle = tomo.process_mle_fit(data, basis)\n",
    "print('MLE Fitter')\n",
    "print('fit time:', time.time() - t)\n",
    "print('fit fidelity:', state_fidelity(choi_ideal / 2, choi_mle / 2))\n",
    "\n",
    "# CVXOPT Semidefinite-Program tomographic reconstruction\n",
    "t = time.time()\n",
    "choi_cvx = tomo.fitters.cvx_fit(data, basis, PSD=True, trace_preserving=True, trace=2)\n",
    "choi_cvx = tomo.process_cvx_fit(data, basis)\n",
    "print('\\nCVXOPT Fitter')\n",
    "print('fit time:', time.time() - t)\n",
    "print('fit fidelity:', state_fidelity(choi_ideal / 2, choi_cvx / 2))"
   ]
  },
  {
   "cell_type": "markdown",
   "metadata": {},
   "source": [
    "## 2-Qubit entangling circuit"
   ]
  },
  {
   "cell_type": "code",
   "execution_count": 8,
   "metadata": {},
   "outputs": [
    {
     "name": "stdout",
     "output_type": "stream",
     "text": [
      "MLE Fitter\n",
      "fit time: 0.03246784210205078\n",
      "fit fidelity: 0.9857566857163759\n",
      "\n",
      "CVXOPT Fitter\n",
      "fit time: 1.426496982574463\n",
      "fit fidelity: 0.9999276320532486\n"
     ]
    }
   ],
   "source": [
    "# Bell-state entangling circuit\n",
    "q = QuantumRegister(2)\n",
    "circ = QuantumCircuit(q)\n",
    "circ.h(q[0])\n",
    "circ.cx(q[0], q[1])\n",
    "\n",
    "# Run circuit on unitary simulator to find ideal unitary\n",
    "job = qiskit.execute(circ, Aer.get_backend('unitary_simulator'))\n",
    "ideal_unitary = job.result().get_data(circ).get('unitary')\n",
    "# convert to Choi-matrix in column-major convention\n",
    "choi_ideal = outer(ideal_unitary.ravel(order='F'))\n",
    "\n",
    "# Generate process tomography circuits and run on qasm simulator\n",
    "qpt_circs = tomo.process_tomography_circuits(circ, q)\n",
    "job = qiskit.execute(qpt_circs, Aer.get_backend('qasm_simulator'), shots=2000)\n",
    "\n",
    "# Extract tomography data so that counts are indexed by measurement configuration\n",
    "qpt_counts = tomo.tomography_data(job.result(), qpt_circs)\n",
    "\n",
    "# Extract fitter data from tomography counts\n",
    "data, basis = tomo.fitter_data(qpt_counts)\n",
    "\n",
    "\n",
    "t = time.time()\n",
    "choi_mle = tomo.process_mle_fit(data, basis)\n",
    "print('MLE Fitter')\n",
    "print('fit time:', time.time() - t)\n",
    "print('fit fidelity:', state_fidelity(choi_ideal / 4, choi_mle / 4))\n",
    "\n",
    "t = time.time()\n",
    "choi_cvx = tomo.process_cvx_fit(data, basis)\n",
    "print('\\nCVXOPT Fitter')\n",
    "print('fit time:', time.time() - t)\n",
    "print('fit fidelity:', state_fidelity(choi_ideal / 4, choi_cvx / 4))"
   ]
  },
  {
   "cell_type": "markdown",
   "metadata": {},
   "source": [
    "## Using SIC-POVM preparation basis"
   ]
  },
  {
   "cell_type": "code",
   "execution_count": 9,
   "metadata": {},
   "outputs": [
    {
     "data": {
      "text/plain": [
       "{(('S0',), ('X',)): {'0': 2000},\n",
       " (('S0',), ('Y',)): {'0': 1003, '1': 997},\n",
       " (('S0',), ('Z',)): {'0': 985, '1': 1015},\n",
       " (('S1',), ('X',)): {'0': 689, '1': 1311},\n",
       " (('S1',), ('Y',)): {'0': 993, '1': 1007},\n",
       " (('S1',), ('Z',)): {'0': 1946, '1': 54},\n",
       " (('S2',), ('X',)): {'0': 662, '1': 1338},\n",
       " (('S2',), ('Y',)): {'0': 1811, '1': 189},\n",
       " (('S2',), ('Z',)): {'0': 556, '1': 1444},\n",
       " (('S3',), ('X',)): {'0': 659, '1': 1341},\n",
       " (('S3',), ('Y',)): {'0': 181, '1': 1819},\n",
       " (('S3',), ('Z',)): {'0': 555, '1': 1445}}"
      ]
     },
     "execution_count": 9,
     "metadata": {},
     "output_type": "execute_result"
    }
   ],
   "source": [
    "# Process tomography of a Hadamard gate\n",
    "q = QuantumRegister(1)\n",
    "circ = QuantumCircuit(q)\n",
    "circ.h(q[0])\n",
    "\n",
    "# Run circuit on unitary simulator to find ideal unitary\n",
    "job = qiskit.execute(circ, Aer.get_backend('unitary_simulator'))\n",
    "ideal_unitary = job.result().get_data(circ).get('unitary')\n",
    "# convert to Choi-matrix in column-major convention\n",
    "choi_ideal = outer(ideal_unitary.ravel(order='F'))\n",
    "\n",
    "# Generate process tomography circuits and run on qasm simulator\n",
    "qpt_circs = tomo.process_tomography_circuits(circ, q, prep_labels='SIC', prep_basis='SIC')\n",
    "job = qiskit.execute(qpt_circs, Aer.get_backend('qasm_simulator'), shots=2000)\n",
    "\n",
    "# Extract tomography data so that counts are indexed by measurement configuration\n",
    "qpt_counts = tomo.tomography_data(job.result(), qpt_circs)\n",
    "qpt_counts"
   ]
  },
  {
   "cell_type": "code",
   "execution_count": 10,
   "metadata": {},
   "outputs": [
    {
     "name": "stdout",
     "output_type": "stream",
     "text": [
      "MLE Fitter\n",
      "fit time: 0.0013718605041503906\n",
      "fit fidelity: 0.9934784124932428\n",
      "\n",
      "CVXOPT Fitter\n",
      "fit time: 0.0680229663848877\n",
      "fit fidelity: 0.9944291012982045\n"
     ]
    }
   ],
   "source": [
    "# Extract fitter data from tomography counts\n",
    "data, basis = tomo.fitter_data(qpt_counts, prep_basis='SIC')\n",
    "\n",
    "# MLE Least-Squares tomographic reconstruction\n",
    "t = time.time()\n",
    "choi_mle = tomo.process_mle_fit(data, basis)\n",
    "print('MLE Fitter')\n",
    "print('fit time:', time.time() - t)\n",
    "print('fit fidelity:', state_fidelity(choi_ideal / 2, choi_mle / 2))\n",
    "\n",
    "# CVXOPT Semidefinite-Program tomographic reconstruction\n",
    "t = time.time()\n",
    "choi_cvx = tomo.process_cvx_fit(data, basis)\n",
    "\n",
    "print('\\nCVXOPT Fitter')\n",
    "print('fit time:', time.time() - t)\n",
    "print('fit fidelity:', state_fidelity(choi_ideal / 2, choi_cvx / 2))"
   ]
  }
 ],
 "metadata": {
  "kernelspec": {
   "display_name": "Python (qiskit)",
   "language": "python",
   "name": "qiskit"
  },
  "language_info": {
   "codemirror_mode": {
    "name": "ipython",
    "version": 3
   },
   "file_extension": ".py",
   "mimetype": "text/x-python",
   "name": "python",
   "nbconvert_exporter": "python",
   "pygments_lexer": "ipython3",
   "version": "3.6.5"
  }
 },
 "nbformat": 4,
 "nbformat_minor": 2
}
