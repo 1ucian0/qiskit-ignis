{
 "cells": [
  {
   "cell_type": "markdown",
   "metadata": {},
   "source": [
    "# Quantum State Tomography\n",
    "\n",
    "* **Author:** Christopher J. Wood (cjwood@us.ibm.com)\n",
    "* **Last Updated:** November 8, 2018 "
   ]
  },
  {
   "cell_type": "code",
   "execution_count": 1,
   "metadata": {
    "collapsed": true
   },
   "outputs": [],
   "source": [
    "# Needed for functions\n",
    "import numpy as np\n",
    "import time\n",
    "\n",
    "# Import QISKit classes\n",
    "import qiskit \n",
    "from qiskit import QuantumRegister, QuantumCircuit, ClassicalRegister, Aer\n",
    "from qiskit.tools.qi.qi import state_fidelity\n",
    "\n",
    "# Tomography functions\n",
    "import sys, os\n",
    "sys.path.append(os.path.abspath(os.path.join('../qiskit_ignis')))\n",
    "import tomography as tomo"
   ]
  },
  {
   "cell_type": "markdown",
   "metadata": {},
   "source": [
    "## 2-Qubit state tomography Example"
   ]
  },
  {
   "cell_type": "code",
   "execution_count": 2,
   "metadata": {},
   "outputs": [
    {
     "name": "stdout",
     "output_type": "stream",
     "text": [
      "OPENQASM 2.0;\n",
      "include \"qelib1.inc\";\n",
      "qreg q0[2];\n",
      "h q0[0];\n",
      "cx q0[0],q0[1];\n",
      "\n",
      "[0.70710678+0.j 0.        +0.j 0.        +0.j 0.70710678+0.j]\n"
     ]
    }
   ],
   "source": [
    "# Create a state preparation circuit\n",
    "q2 = QuantumRegister(2)\n",
    "bell = QuantumCircuit(q2)\n",
    "bell.h(q2[0])\n",
    "bell.cx(q2[0], q2[1])\n",
    "print(bell.qasm())\n",
    "\n",
    "job = qiskit.execute(bell, Aer.get_backend('statevector_simulator'))\n",
    "psi_bell = job.result().get_data(bell).get('statevector')\n",
    "print(psi_bell)"
   ]
  },
  {
   "cell_type": "code",
   "execution_count": 3,
   "metadata": {},
   "outputs": [
    {
     "name": "stdout",
     "output_type": "stream",
     "text": [
      "Time taken: 0.6357760429382324\n"
     ]
    },
    {
     "data": {
      "text/plain": [
       "{(('X', 'X'), None): {'00': 2423, '11': 2577},\n",
       " (('X', 'Y'), None): {'00': 1288, '01': 1234, '10': 1213, '11': 1265},\n",
       " (('X', 'Z'), None): {'00': 1253, '01': 1240, '10': 1213, '11': 1294},\n",
       " (('Y', 'X'), None): {'00': 1272, '01': 1264, '10': 1250, '11': 1214},\n",
       " (('Y', 'Y'), None): {'01': 2503, '10': 2497},\n",
       " (('Y', 'Z'), None): {'00': 1250, '01': 1254, '10': 1260, '11': 1236},\n",
       " (('Z', 'X'), None): {'00': 1238, '01': 1234, '10': 1203, '11': 1325},\n",
       " (('Z', 'Y'), None): {'00': 1261, '01': 1193, '10': 1272, '11': 1274},\n",
       " (('Z', 'Z'), None): {'00': 2509, '11': 2491}}"
      ]
     },
     "execution_count": 3,
     "metadata": {},
     "output_type": "execute_result"
    }
   ],
   "source": [
    "# Generate circuits and run on simulator\n",
    "t = time.time()\n",
    "qst_bell = tomo.state_tomography_circuits(bell, q2)\n",
    "job = qiskit.execute(qst_bell, Aer.get_backend('qasm_simulator'), shots=5000)\n",
    "print('Time taken:', time.time() - t)\n",
    "\n",
    "# Extract tomography data so that countns are indexed by measurement configuration\n",
    "# Note that the None labels are because this is state tomography instead of process tomography\n",
    "# Process tomography would have the preparation state labels there\n",
    "\n",
    "tomo_counts_bell = tomo.tomography_data(job.result(), qst_bell)\n",
    "tomo_counts_bell"
   ]
  },
  {
   "cell_type": "code",
   "execution_count": 4,
   "metadata": {},
   "outputs": [
    {
     "name": "stdout",
     "output_type": "stream",
     "text": [
      "Fit Fidelity = 0.9999545452628826\n"
     ]
    }
   ],
   "source": [
    "# Generate fitter data and reconstruct density matrix\n",
    "probs_bell, basis_matrix_bell = tomo.fitter_data(tomo_counts_bell)\n",
    "rho_bell = tomo.state_cvx_fit(probs_bell, basis_matrix_bell)\n",
    "F_bell = state_fidelity(psi_bell, rho_bell)\n",
    "print('Fit Fidelity =', F_bell)"
   ]
  },
  {
   "cell_type": "markdown",
   "metadata": {},
   "source": [
    "## Including Calibration Error (Simulated)\n",
    "\n",
    "Suppose we include T1 relaxation during measurement, but all other circuit operations are perfect.\n",
    "Noise parameters:\n",
    "* measurement time: 5 microseconds\n",
    "* T_1: 50 microseconds\n",
    "* Population of excited state: 5%\n",
    "\n",
    "The assignment fidelity for this can be calculated from\n",
    "* P(0|0) = 1 - P(1|0)\n",
    "* P(1|0) = pop1 * exp(- t_meas / t_1)\n",
    "* P(0|1) = (1 - pop1) * exp(- t_meas / t_1)\n",
    "* P(1|1) = 1 - P(0|1)\n",
    "\n",
    "the calibration error matrix is\n",
    "M = [[P(0|0), P(0|1)], [P(1|0), P(1|1)]]"
   ]
  },
  {
   "cell_type": "code",
   "execution_count": 5,
   "metadata": {},
   "outputs": [
    {
     "data": {
      "text/plain": [
       "{(('X', 'X'), None): {'00': 2520, '01': 216, '10': 246, '11': 2018},\n",
       " (('X', 'Y'), None): {'00': 1466, '01': 1205, '10': 1248, '11': 1081},\n",
       " (('X', 'Z'), None): {'00': 1445, '01': 1208, '10': 1260, '11': 1087},\n",
       " (('Y', 'X'), None): {'00': 1450, '01': 1248, '10': 1243, '11': 1059},\n",
       " (('Y', 'Y'), None): {'00': 445, '01': 2289, '10': 2248, '11': 18},\n",
       " (('Y', 'Z'), None): {'00': 1489, '01': 1263, '10': 1212, '11': 1036},\n",
       " (('Z', 'X'), None): {'00': 1463, '01': 1234, '10': 1206, '11': 1097},\n",
       " (('Z', 'Y'), None): {'00': 1469, '01': 1253, '10': 1244, '11': 1034},\n",
       " (('Z', 'Z'), None): {'00': 2514, '01': 226, '10': 204, '11': 2056}}"
      ]
     },
     "execution_count": 5,
     "metadata": {},
     "output_type": "execute_result"
    }
   ],
   "source": [
    "pop1 = 0.05\n",
    "T1 = 50\n",
    "t_meas = 5\n",
    "\n",
    "noise = {\n",
    "    'relaxation_rate': 1. / T1,\n",
    "    'thermal_populations': [1 - pop1, pop1],\n",
    "    'measure': {'gate_time': t_meas}\n",
    "}\n",
    "\n",
    "# Generate circuits and run on simulator\n",
    "job_cal = qiskit.execute(qst_bell, Aer.get_backend('qasm_simulator'), shots=5000,\n",
    "                         config={'noise_params': noise})\n",
    "\n",
    "# Extract tomography data so that countns are indexed by measurement configuration\n",
    "tomo_counts_noise = tomo.tomography_data(job_cal.result(), qst_bell)\n",
    "tomo_counts_noise"
   ]
  },
  {
   "cell_type": "code",
   "execution_count": 6,
   "metadata": {
    "collapsed": true
   },
   "outputs": [],
   "source": [
    "# Create Calibration matrix\n",
    "\n",
    "P1_0 = pop1 * np.exp(-t_meas / T1)\n",
    "P0_1 = (1 - pop1) * np.exp(-t_meas / T1)\n",
    "\n",
    "# Single qubit calibration matrix\n",
    "cal_mat_single = np.array([[1 - P1_0, P0_1], [P1_0, 1 - P0_1]])\n",
    "\n",
    "# 2-qubit calibration matrix\n",
    "cal_mat = np.kron(cal_mat_single, cal_mat_single)"
   ]
  },
  {
   "cell_type": "code",
   "execution_count": 7,
   "metadata": {},
   "outputs": [
    {
     "name": "stdout",
     "output_type": "stream",
     "text": [
      "Fitting without using calibration data\n",
      "Fit Fidelity = 0.8653582048486221\n"
     ]
    }
   ],
   "source": [
    "# Fitting without calibration matrix\n",
    "probs_noise, basis_matrix_noise = tomo.fitter_data(tomo_counts_noise)\n",
    "rho_noise = tomo.state_cvx_fit(probs_noise, basis_matrix_noise)\n",
    "print('Fitting without using calibration data')\n",
    "print('Fit Fidelity =', state_fidelity(psi_bell, rho_noise))"
   ]
  },
  {
   "cell_type": "code",
   "execution_count": 8,
   "metadata": {},
   "outputs": [
    {
     "name": "stdout",
     "output_type": "stream",
     "text": [
      "Using calibration data to update basis matrix\n",
      "Fit Fidelity = 0.9852567710263636\n"
     ]
    }
   ],
   "source": [
    "# Fitting with calibration matrix by modifying POVMs\n",
    "probs_noise_cal, basis_matrix_noise_cal = tomo.fitter_data(tomo_counts_noise,\n",
    "                                                     calibration_matrix=cal_mat)\n",
    "rho_noise_cal = tomo.state_cvx_fit(probs_noise_cal, basis_matrix_noise_cal)\n",
    "print('Using calibration data to update basis matrix')\n",
    "print('Fit Fidelity =', state_fidelity(psi_bell, rho_noise_cal))"
   ]
  },
  {
   "cell_type": "markdown",
   "metadata": {},
   "source": [
    "## Generating and fitting random states\n",
    "\n",
    "We now test the functions on state generated by a circuit consiting of a layer of random single qubit unitaries u3"
   ]
  },
  {
   "cell_type": "code",
   "execution_count": 9,
   "metadata": {
    "collapsed": true
   },
   "outputs": [],
   "source": [
    "def random_u3_tomo(nq, shots):\n",
    "    \n",
    "    def rand_angles():\n",
    "        return tuple(2 * np.pi * np.random.random(3) - np.pi)\n",
    "    q = QuantumRegister(nq)\n",
    "    circ = QuantumCircuit(q)\n",
    "    for j in range(nq):\n",
    "        circ.u3(*rand_angles(), q[j])\n",
    "    job = qiskit.execute(circ, Aer.get_backend('statevector_simulator'))\n",
    "    psi_rand = job.result().get_data(circ).get('statevector')\n",
    "    \n",
    "    qst_circs = tomo.state_tomography_circuits(circ, q)\n",
    "    job = qiskit.execute(qst_circs, Aer.get_backend('qasm_simulator'),\n",
    "                         shots=shots)\n",
    "    tomo_counts = tomo.tomography_data(job.result(), qst_circs)\n",
    "    probs, basis_matrix = tomo.fitter_data(tomo_counts, beta=0.5)\n",
    "    \n",
    "    rho_cvx = tomo.state_cvx_fit(probs, basis_matrix)\n",
    "    rho_mle = tomo.state_mle_fit(probs, basis_matrix)\n",
    "    \n",
    "    print('F fit (CVX) =', state_fidelity(psi_rand, rho_cvx))\n",
    "    print('F fit (MLE) =', state_fidelity(psi_rand, rho_mle))"
   ]
  },
  {
   "cell_type": "code",
   "execution_count": 13,
   "metadata": {},
   "outputs": [
    {
     "name": "stdout",
     "output_type": "stream",
     "text": [
      "Random single-qubit unitaries: set 0\n",
      "F fit (CVX) = 0.9956970272161064\n",
      "F fit (MLE) = 0.990459874997372\n",
      "Random single-qubit unitaries: set 1\n",
      "F fit (CVX) = 0.9991579557685142\n",
      "F fit (MLE) = 0.9976499829679297\n",
      "Random single-qubit unitaries: set 2\n",
      "F fit (CVX) = 0.9953649860899231\n",
      "F fit (MLE) = 0.9933143231520845\n",
      "Random single-qubit unitaries: set 3\n",
      "F fit (CVX) = 0.9970619065483133\n",
      "F fit (MLE) = 0.9940235331088964\n",
      "Random single-qubit unitaries: set 4\n",
      "F fit (CVX) = 0.9962858977921702\n",
      "F fit (MLE) = 0.9964310151564313\n"
     ]
    }
   ],
   "source": [
    "for j in range(5):\n",
    "    print('Random single-qubit unitaries: set {}'.format(j))\n",
    "    random_u3_tomo(3, 5000)"
   ]
  },
  {
   "cell_type": "markdown",
   "metadata": {},
   "source": [
    "## 5-Qubit Bell State"
   ]
  },
  {
   "cell_type": "code",
   "execution_count": 14,
   "metadata": {},
   "outputs": [
    {
     "name": "stdout",
     "output_type": "stream",
     "text": [
      "Time taken: 7.026883840560913\n"
     ]
    }
   ],
   "source": [
    "# Create a state preparation circuit\n",
    "q5 = QuantumRegister(5)\n",
    "bell5 = QuantumCircuit(q5)\n",
    "bell5.h(q5[0])\n",
    "for j in range(4):\n",
    "    bell5.cx(q5[j], q5[j + 1])\n",
    "\n",
    "# Get ideal output state\n",
    "job = qiskit.execute(bell5, Aer.get_backend('statevector_simulator'))\n",
    "psi_bell5 = job.result().get_data(bell5).get('statevector')\n",
    "\n",
    "# Generate circuits and run on simulator\n",
    "t = time.time()\n",
    "qst_bell5 = tomo.state_tomography_circuits(bell5, q5)\n",
    "job = qiskit.execute(qst_bell5, Aer.get_backend('qasm_simulator'), shots=5000)\n",
    "\n",
    "# Extract tomography data so that countns are indexed by measurement configuration\n",
    "tomo_counts_bell5 = tomo.tomography_data(job.result(), qst_bell5)\n",
    "probs_bell5, basis_matrix_bell5 = tomo.fitter_data(tomo_counts_bell5)\n",
    "print('Time taken:', time.time() - t)"
   ]
  },
  {
   "cell_type": "code",
   "execution_count": 15,
   "metadata": {},
   "outputs": [
    {
     "name": "stdout",
     "output_type": "stream",
     "text": [
      "MLE Reconstruction\n",
      "Time taken: 2.8880600929260254\n",
      "Fit Fidelity: 0.9942416011716305\n"
     ]
    }
   ],
   "source": [
    "t = time.time()\n",
    "rho_mle_bell5 = tomo.state_mle_fit(probs_bell5, basis_matrix_bell5)\n",
    "print('MLE Reconstruction')\n",
    "print('Time taken:', time.time() - t)\n",
    "print('Fit Fidelity:', state_fidelity(psi_bell5, rho_mle_bell5))"
   ]
  },
  {
   "cell_type": "code",
   "execution_count": 17,
   "metadata": {},
   "outputs": [
    {
     "name": "stdout",
     "output_type": "stream",
     "text": [
      "SDP Reconstruction\n",
      "Time taken: 54.069040060043335\n",
      "Fidelity: 0.9999270118514167\n"
     ]
    }
   ],
   "source": [
    "t = time.time()\n",
    "rho_sdp_bell5 = tomo.state_cvx_fit(probs_bell5, basis_matrix_bell5, solver='CVXOPT')\n",
    "print('SDP Reconstruction')\n",
    "print('Time taken:', time.time() - t)\n",
    "print('Fidelity:', state_fidelity(psi_bell5, rho_sdp_bell5))"
   ]
  }
 ],
 "metadata": {
  "kernelspec": {
   "display_name": "Python (qiskit)",
   "language": "python",
   "name": "qiskit"
  },
  "language_info": {
   "codemirror_mode": {
    "name": "ipython",
    "version": 3
   },
   "file_extension": ".py",
   "mimetype": "text/x-python",
   "name": "python",
   "nbconvert_exporter": "python",
   "pygments_lexer": "ipython3",
   "version": "3.6.5"
  }
 },
 "nbformat": 4,
 "nbformat_minor": 2
}
