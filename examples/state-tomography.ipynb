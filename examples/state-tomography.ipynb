{
 "cells": [
  {
   "cell_type": "markdown",
   "metadata": {},
   "source": [
    "# Quantum State Tomography\n",
    "\n",
    "* **Author:** Christopher J. Wood (cjwood@us.ibm.com)\n",
    "* **Last Updated:** November 8, 2018 "
   ]
  },
  {
   "cell_type": "code",
   "execution_count": 1,
   "metadata": {},
   "outputs": [],
   "source": [
    "# Needed for functions\n",
    "import numpy as np\n",
    "import time\n",
    "\n",
    "# Import QISKit classes\n",
    "import qiskit \n",
    "from qiskit import QuantumRegister, QuantumCircuit, ClassicalRegister, Aer\n",
    "from qiskit.tools.qi.qi import state_fidelity\n",
    "\n",
    "# Tomography functions\n",
    "import sys, os\n",
    "sys.path.append(os.path.abspath(os.path.join('../qiskit_ignis')))\n",
    "import tomography as tomo"
   ]
  },
  {
   "cell_type": "markdown",
   "metadata": {},
   "source": [
    "## 2-Qubit state tomography Example"
   ]
  },
  {
   "cell_type": "code",
   "execution_count": 2,
   "metadata": {},
   "outputs": [
    {
     "name": "stdout",
     "output_type": "stream",
     "text": [
      "OPENQASM 2.0;\n",
      "include \"qelib1.inc\";\n",
      "qreg q0[2];\n",
      "h q0[0];\n",
      "cx q0[0],q0[1];\n",
      "\n",
      "[0.70710678+0.j 0.        +0.j 0.        +0.j 0.70710678+0.j]\n"
     ]
    }
   ],
   "source": [
    "# Create a state preparation circuit\n",
    "q2 = QuantumRegister(2)\n",
    "bell = QuantumCircuit(q2)\n",
    "bell.h(q2[0])\n",
    "bell.cx(q2[0], q2[1])\n",
    "print(bell.qasm())\n",
    "\n",
    "job = qiskit.execute(bell, Aer.get_backend('statevector_simulator'))\n",
    "psi_bell = job.result().get_data(bell).get('statevector')\n",
    "print(psi_bell)"
   ]
  },
  {
   "cell_type": "code",
   "execution_count": 3,
   "metadata": {},
   "outputs": [
    {
     "name": "stdout",
     "output_type": "stream",
     "text": [
      "Time taken: 0.6353530883789062\n"
     ]
    },
    {
     "data": {
      "text/plain": [
       "{('X', 'X'): {'00': 2520, '11': 2480},\n",
       " ('X', 'Y'): {'00': 1249, '01': 1274, '10': 1217, '11': 1260},\n",
       " ('X', 'Z'): {'00': 1220, '01': 1298, '10': 1282, '11': 1200},\n",
       " ('Y', 'X'): {'00': 1232, '01': 1261, '10': 1237, '11': 1270},\n",
       " ('Y', 'Y'): {'01': 2524, '10': 2476},\n",
       " ('Y', 'Z'): {'00': 1261, '01': 1183, '10': 1292, '11': 1264},\n",
       " ('Z', 'X'): {'00': 1297, '01': 1268, '10': 1238, '11': 1197},\n",
       " ('Z', 'Y'): {'00': 1228, '01': 1279, '10': 1213, '11': 1280},\n",
       " ('Z', 'Z'): {'00': 2553, '11': 2447}}"
      ]
     },
     "execution_count": 3,
     "metadata": {},
     "output_type": "execute_result"
    }
   ],
   "source": [
    "# Generate circuits and run on simulator\n",
    "t = time.time()\n",
    "qst_bell = tomo.state_tomography_circuits(bell, q2)\n",
    "job = qiskit.execute(qst_bell, Aer.get_backend('qasm_simulator'), shots=5000)\n",
    "print('Time taken:', time.time() - t)\n",
    "\n",
    "# Extract tomography data so that countns are indexed by measurement configuration\n",
    "# Note that the None labels are because this is state tomography instead of process tomography\n",
    "# Process tomography would have the preparation state labels there\n",
    "\n",
    "tomo_counts_bell = tomo.tomography_data(job.result(), qst_bell)\n",
    "tomo_counts_bell"
   ]
  },
  {
   "cell_type": "code",
   "execution_count": 4,
   "metadata": {},
   "outputs": [
    {
     "name": "stdout",
     "output_type": "stream",
     "text": [
      "Fit Fidelity = 0.9999389273659922\n"
     ]
    }
   ],
   "source": [
    "# Generate fitter data and reconstruct density matrix\n",
    "probs_bell, basis_matrix_bell = tomo.fitter_data(tomo_counts_bell)\n",
    "rho_bell = tomo.state_cvx_fit(probs_bell, basis_matrix_bell)\n",
    "F_bell = state_fidelity(psi_bell, rho_bell)\n",
    "print('Fit Fidelity =', F_bell)"
   ]
  },
  {
   "cell_type": "markdown",
   "metadata": {},
   "source": [
    "## Including Calibration Error (Simulated)\n",
    "\n",
    "Suppose we include T1 relaxation during measurement, but all other circuit operations are perfect.\n",
    "Noise parameters:\n",
    "* measurement time: 5 microseconds\n",
    "* T_1: 50 microseconds\n",
    "* Population of excited state: 5%\n",
    "\n",
    "The assignment fidelity for this can be calculated from\n",
    "* P(0|0) = 1 - P(1|0)\n",
    "* P(1|0) = pop1 * exp(- t_meas / t_1)\n",
    "* P(0|1) = (1 - pop1) * exp(- t_meas / t_1)\n",
    "* P(1|1) = 1 - P(0|1)\n",
    "\n",
    "the calibration error matrix is\n",
    "M = [[P(0|0), P(0|1)], [P(1|0), P(1|1)]]"
   ]
  },
  {
   "cell_type": "code",
   "execution_count": 5,
   "metadata": {},
   "outputs": [
    {
     "data": {
      "text/plain": [
       "{('X', 'X'): {'00': 2460, '01': 237, '10': 204, '11': 2099},\n",
       " ('X', 'Y'): {'00': 1498, '01': 1245, '10': 1218, '11': 1039},\n",
       " ('X', 'Z'): {'00': 1431, '01': 1296, '10': 1260, '11': 1013},\n",
       " ('Y', 'X'): {'00': 1472, '01': 1257, '10': 1228, '11': 1043},\n",
       " ('Y', 'Y'): {'00': 432, '01': 2292, '10': 2258, '11': 18},\n",
       " ('Y', 'Z'): {'00': 1444, '01': 1255, '10': 1263, '11': 1038},\n",
       " ('Z', 'X'): {'00': 1512, '01': 1230, '10': 1258, '11': 1000},\n",
       " ('Z', 'Y'): {'00': 1432, '01': 1206, '10': 1249, '11': 1113},\n",
       " ('Z', 'Z'): {'00': 2507, '01': 214, '10': 219, '11': 2060}}"
      ]
     },
     "execution_count": 5,
     "metadata": {},
     "output_type": "execute_result"
    }
   ],
   "source": [
    "pop1 = 0.05\n",
    "T1 = 50\n",
    "t_meas = 5\n",
    "\n",
    "noise = {\n",
    "    'relaxation_rate': 1. / T1,\n",
    "    'thermal_populations': [1 - pop1, pop1],\n",
    "    'measure': {'gate_time': t_meas}\n",
    "}\n",
    "\n",
    "# Generate circuits and run on simulator\n",
    "job_cal = qiskit.execute(qst_bell, Aer.get_backend('qasm_simulator'), shots=5000,\n",
    "                         config={'noise_params': noise})\n",
    "\n",
    "# Extract tomography data so that countns are indexed by measurement configuration\n",
    "tomo_counts_noise = tomo.tomography_data(job_cal.result(), qst_bell)\n",
    "tomo_counts_noise"
   ]
  },
  {
   "cell_type": "code",
   "execution_count": 6,
   "metadata": {},
   "outputs": [],
   "source": [
    "# Create Calibration matrix\n",
    "\n",
    "P1_0 = pop1 * np.exp(-t_meas / T1)\n",
    "P0_1 = (1 - pop1) * np.exp(-t_meas / T1)\n",
    "\n",
    "# Single qubit calibration matrix\n",
    "cal_mat_single = np.array([[1 - P1_0, P0_1], [P1_0, 1 - P0_1]])\n",
    "\n",
    "# 2-qubit calibration matrix\n",
    "cal_mat = np.kron(cal_mat_single, cal_mat_single)"
   ]
  },
  {
   "cell_type": "code",
   "execution_count": 7,
   "metadata": {},
   "outputs": [
    {
     "name": "stdout",
     "output_type": "stream",
     "text": [
      "Fitting without using calibration data\n",
      "Fit Fidelity = 0.8681015933385634\n"
     ]
    }
   ],
   "source": [
    "# Fitting without calibration matrix\n",
    "probs_noise, basis_matrix_noise = tomo.fitter_data(tomo_counts_noise)\n",
    "rho_noise = tomo.state_cvx_fit(probs_noise, basis_matrix_noise)\n",
    "print('Fitting without using calibration data')\n",
    "print('Fit Fidelity =', state_fidelity(psi_bell, rho_noise))"
   ]
  },
  {
   "cell_type": "code",
   "execution_count": 8,
   "metadata": {},
   "outputs": [
    {
     "name": "stdout",
     "output_type": "stream",
     "text": [
      "Using calibration data to update basis matrix\n",
      "Fit Fidelity = 0.985520307246098\n"
     ]
    }
   ],
   "source": [
    "# Fitting with calibration matrix by modifying POVMs\n",
    "probs_noise_cal, basis_matrix_noise_cal = tomo.fitter_data(tomo_counts_noise,\n",
    "                                                     calibration_matrix=cal_mat)\n",
    "rho_noise_cal = tomo.state_cvx_fit(probs_noise_cal, basis_matrix_noise_cal)\n",
    "print('Using calibration data to update basis matrix')\n",
    "print('Fit Fidelity =', state_fidelity(psi_bell, rho_noise_cal))"
   ]
  },
  {
   "cell_type": "markdown",
   "metadata": {},
   "source": [
    "## Generating and fitting random states\n",
    "\n",
    "We now test the functions on state generated by a circuit consiting of a layer of random single qubit unitaries u3"
   ]
  },
  {
   "cell_type": "code",
   "execution_count": 9,
   "metadata": {},
   "outputs": [],
   "source": [
    "def random_u3_tomo(nq, shots):\n",
    "    \n",
    "    def rand_angles():\n",
    "        return tuple(2 * np.pi * np.random.random(3) - np.pi)\n",
    "    q = QuantumRegister(nq)\n",
    "    circ = QuantumCircuit(q)\n",
    "    for j in range(nq):\n",
    "        circ.u3(*rand_angles(), q[j])\n",
    "    job = qiskit.execute(circ, Aer.get_backend('statevector_simulator'))\n",
    "    psi_rand = job.result().get_data(circ).get('statevector')\n",
    "    \n",
    "    qst_circs = tomo.state_tomography_circuits(circ, q)\n",
    "    job = qiskit.execute(qst_circs, Aer.get_backend('qasm_simulator'),\n",
    "                         shots=shots)\n",
    "    tomo_counts = tomo.tomography_data(job.result(), qst_circs)\n",
    "    probs, basis_matrix = tomo.fitter_data(tomo_counts, beta=0.5)\n",
    "    \n",
    "    rho_cvx = tomo.state_cvx_fit(probs, basis_matrix)\n",
    "    rho_mle = tomo.state_mle_fit(probs, basis_matrix)\n",
    "    \n",
    "    print('F fit (CVX) =', state_fidelity(psi_rand, rho_cvx))\n",
    "    print('F fit (MLE) =', state_fidelity(psi_rand, rho_mle))"
   ]
  },
  {
   "cell_type": "code",
   "execution_count": 10,
   "metadata": {},
   "outputs": [
    {
     "name": "stdout",
     "output_type": "stream",
     "text": [
      "Random single-qubit unitaries: set 0\n",
      "F fit (CVX) = 0.9970702786442692\n",
      "F fit (MLE) = 0.9943899714180672\n",
      "Random single-qubit unitaries: set 1\n",
      "F fit (CVX) = 0.9966216318400607\n",
      "F fit (MLE) = 0.9933462944118627\n",
      "Random single-qubit unitaries: set 2\n",
      "F fit (CVX) = 0.997138676982347\n",
      "F fit (MLE) = 0.9967221374053102\n",
      "Random single-qubit unitaries: set 3\n",
      "F fit (CVX) = 0.9999041896125411\n",
      "F fit (MLE) = 0.9990113420414941\n",
      "Random single-qubit unitaries: set 4\n",
      "F fit (CVX) = 0.9997439765929161\n",
      "F fit (MLE) = 0.9954484105588328\n"
     ]
    }
   ],
   "source": [
    "for j in range(5):\n",
    "    print('Random single-qubit unitaries: set {}'.format(j))\n",
    "    random_u3_tomo(3, 5000)"
   ]
  },
  {
   "cell_type": "markdown",
   "metadata": {},
   "source": [
    "## 5-Qubit Bell State"
   ]
  },
  {
   "cell_type": "code",
   "execution_count": 11,
   "metadata": {},
   "outputs": [
    {
     "name": "stdout",
     "output_type": "stream",
     "text": [
      "Time taken: 204.00656533241272\n"
     ]
    }
   ],
   "source": [
    "# Create a state preparation circuit\n",
    "q5 = QuantumRegister(5)\n",
    "bell5 = QuantumCircuit(q5)\n",
    "bell5.h(q5[0])\n",
    "for j in range(4):\n",
    "    bell5.cx(q5[j], q5[j + 1])\n",
    "\n",
    "# Get ideal output state\n",
    "job = qiskit.execute(bell5, Aer.get_backend('statevector_simulator'))\n",
    "psi_bell5 = job.result().get_data(bell5).get('statevector')\n",
    "\n",
    "# Generate circuits and run on simulator\n",
    "t = time.time()\n",
    "qst_bell5 = tomo.state_tomography_circuits(bell5, q5)\n",
    "job = qiskit.execute(qst_bell5, Aer.get_backend('qasm_simulator'), shots=5000)\n",
    "\n",
    "# Extract tomography data so that countns are indexed by measurement configuration\n",
    "tomo_counts_bell5 = tomo.tomography_data(job.result(), qst_bell5)\n",
    "probs_bell5, basis_matrix_bell5 = tomo.fitter_data(tomo_counts_bell5)\n",
    "print('Time taken:', time.time() - t)"
   ]
  },
  {
   "cell_type": "code",
   "execution_count": 12,
   "metadata": {},
   "outputs": [
    {
     "name": "stdout",
     "output_type": "stream",
     "text": [
      "MLE Reconstruction\n",
      "Time taken: 3.31719708442688\n",
      "Fit Fidelity: 0.9934583753879618\n"
     ]
    }
   ],
   "source": [
    "t = time.time()\n",
    "rho_mle_bell5 = tomo.state_mle_fit(probs_bell5, basis_matrix_bell5)\n",
    "print('MLE Reconstruction')\n",
    "print('Time taken:', time.time() - t)\n",
    "print('Fit Fidelity:', state_fidelity(psi_bell5, rho_mle_bell5))"
   ]
  },
  {
   "cell_type": "code",
   "execution_count": 13,
   "metadata": {},
   "outputs": [
    {
     "name": "stdout",
     "output_type": "stream",
     "text": [
      "SDP Reconstruction\n",
      "Time taken: 48.56195878982544\n",
      "Fidelity: 0.999928063990402\n"
     ]
    }
   ],
   "source": [
    "t = time.time()\n",
    "rho_sdp_bell5 = tomo.state_cvx_fit(probs_bell5, basis_matrix_bell5, solver='CVXOPT')\n",
    "print('SDP Reconstruction')\n",
    "print('Time taken:', time.time() - t)\n",
    "print('Fidelity:', state_fidelity(psi_bell5, rho_sdp_bell5))"
   ]
  }
 ],
 "metadata": {
  "kernelspec": {
   "display_name": "Python (qiskit)",
   "language": "python",
   "name": "qiskit"
  },
  "language_info": {
   "codemirror_mode": {
    "name": "ipython",
    "version": 3
   },
   "file_extension": ".py",
   "mimetype": "text/x-python",
   "name": "python",
   "nbconvert_exporter": "python",
   "pygments_lexer": "ipython3",
   "version": "3.6.5"
  }
 },
 "nbformat": 4,
 "nbformat_minor": 2
}
