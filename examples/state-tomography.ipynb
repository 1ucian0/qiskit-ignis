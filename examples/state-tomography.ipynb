{
 "cells": [
  {
   "cell_type": "markdown",
   "metadata": {},
   "source": [
    "# Quantum State Tomography\n",
    "\n",
    "* **Author:** Christopher J. Wood (cjwood@us.ibm.com)\n",
    "* **Last Updated:** May 15, 2018 "
   ]
  },
  {
   "cell_type": "code",
   "execution_count": 1,
   "metadata": {
    "collapsed": true
   },
   "outputs": [],
   "source": [
    "# Needed for functions\n",
    "import numpy as np\n",
    "import time\n",
    "\n",
    "# Import QISKit classes\n",
    "import qiskit \n",
    "from qiskit import QuantumRegister, QuantumCircuit, ClassicalRegister\n",
    "from qiskit.tools.qi.qi import state_fidelity\n",
    "\n",
    "# Tomography functions\n",
    "import sys, os\n",
    "sys.path.append(os.path.abspath(os.path.join('../qiskit_ignis')))\n",
    "import tomography as tomo"
   ]
  },
  {
   "cell_type": "markdown",
   "metadata": {},
   "source": [
    "## 2-Qubit state tomography Example"
   ]
  },
  {
   "cell_type": "code",
   "execution_count": 2,
   "metadata": {},
   "outputs": [
    {
     "name": "stdout",
     "output_type": "stream",
     "text": [
      "OPENQASM 2.0;\n",
      "include \"qelib1.inc\";\n",
      "qreg q0[2];\n",
      "h q0[0];\n",
      "cx q0[0],q0[1];\n",
      "\n",
      "[0.70710678+0.j 0.        +0.j 0.        +0.j 0.70710678+0.j]\n"
     ]
    }
   ],
   "source": [
    "# Create a state preparation circuit\n",
    "q2 = QuantumRegister(2)\n",
    "bell = QuantumCircuit(q2)\n",
    "bell.h(q2[0])\n",
    "bell.cx(q2[0], q2[1])\n",
    "print(bell.qasm())\n",
    "\n",
    "job = qiskit.execute(bell, 'local_statevector_simulator')\n",
    "psi_bell = job.result().get_data(bell).get('statevector')\n",
    "print(psi_bell)"
   ]
  },
  {
   "cell_type": "code",
   "execution_count": 3,
   "metadata": {},
   "outputs": [
    {
     "name": "stdout",
     "output_type": "stream",
     "text": [
      "Time taken: 0.049649953842163086\n"
     ]
    },
    {
     "data": {
      "text/plain": [
       "{(('X', 'X'), None): {'00': 2513, '11': 2487},\n",
       " (('X', 'Y'), None): {'00': 1238, '01': 1296, '10': 1256, '11': 1210},\n",
       " (('X', 'Z'), None): {'00': 1215, '01': 1262, '10': 1282, '11': 1241},\n",
       " (('Y', 'X'), None): {'00': 1259, '01': 1264, '10': 1267, '11': 1210},\n",
       " (('Y', 'Y'), None): {'01': 2491, '10': 2509},\n",
       " (('Y', 'Z'), None): {'00': 1254, '01': 1254, '10': 1262, '11': 1230},\n",
       " (('Z', 'X'), None): {'00': 1249, '01': 1173, '10': 1298, '11': 1280},\n",
       " (('Z', 'Y'), None): {'00': 1283, '01': 1275, '10': 1184, '11': 1258},\n",
       " (('Z', 'Z'), None): {'00': 2480, '11': 2520}}"
      ]
     },
     "execution_count": 3,
     "metadata": {},
     "output_type": "execute_result"
    }
   ],
   "source": [
    "# Generate circuits and run on simulator\n",
    "t = time.time()\n",
    "qst_bell = tomo.state_tomography_circuits(bell, q2)\n",
    "job = qiskit.execute(qst_bell, 'local_qasm_simulator', shots=5000)\n",
    "print('Time taken:', time.time() - t)\n",
    "\n",
    "# Extract tomography data so that countns are indexed by measurement configuration\n",
    "# Note that the None labels are because this is state tomography instead of process tomography\n",
    "# Process tomography would have the preparation state labels there\n",
    "\n",
    "tomo_counts_bell = tomo.tomography_data(job.result(), qst_bell)\n",
    "tomo_counts_bell"
   ]
  },
  {
   "cell_type": "code",
   "execution_count": 4,
   "metadata": {},
   "outputs": [
    {
     "name": "stdout",
     "output_type": "stream",
     "text": [
      "Fit Fidelity = 0.9999701269657615\n"
     ]
    }
   ],
   "source": [
    "# Generate fitter data and reconstruct density matrix\n",
    "data_bell, basis_bell = tomo.fitter_data(tomo_counts_bell)\n",
    "rho_bell = tomo.cvx_fit(data_bell, basis_bell, trace=1)\n",
    "F_bell = state_fidelity(psi_bell, rho_bell)\n",
    "print('Fit Fidelity =', F_bell)"
   ]
  },
  {
   "cell_type": "markdown",
   "metadata": {},
   "source": [
    "## Including Calibration Error (Simulated)\n",
    "\n",
    "Suppose we include T1 relaxation during measurement, but all other circuit operations are perfect.\n",
    "Noise parameters:\n",
    "* measurement time: 5 microseconds\n",
    "* T_1: 50 microseconds\n",
    "* Population of excited state: 5%\n",
    "\n",
    "The assignment fidelity for this can be calculated from\n",
    "* P(0|0) = 1 - P(1|0)\n",
    "* P(1|0) = pop1 * exp(- t_meas / t_1)\n",
    "* P(0|1) = (1 - pop1) * exp(- t_meas / t_1)\n",
    "* P(1|1) = 1 - P(0|1)\n",
    "\n",
    "the calibration error matrix is\n",
    "M = [[P(0|0), P(0|1)], [P(1|0), P(1|1)]]"
   ]
  },
  {
   "cell_type": "code",
   "execution_count": 5,
   "metadata": {},
   "outputs": [
    {
     "data": {
      "text/plain": [
       "{(('X', 'X'), None): {'00': 2520, '01': 210, '10': 240, '11': 2030},\n",
       " (('X', 'Y'), None): {'00': 1493, '01': 1271, '10': 1244, '11': 992},\n",
       " (('X', 'Z'), None): {'00': 1469, '01': 1219, '10': 1261, '11': 1051},\n",
       " (('Y', 'X'), None): {'00': 1501, '01': 1225, '10': 1233, '11': 1041},\n",
       " (('Y', 'Y'), None): {'00': 444, '01': 2225, '10': 2304, '11': 27},\n",
       " (('Y', 'Z'), None): {'00': 1403, '01': 1283, '10': 1252, '11': 1062},\n",
       " (('Z', 'X'), None): {'00': 1500, '01': 1221, '10': 1252, '11': 1027},\n",
       " (('Z', 'Y'), None): {'00': 1477, '01': 1231, '10': 1240, '11': 1052},\n",
       " (('Z', 'Z'), None): {'00': 2522, '01': 239, '10': 209, '11': 2030}}"
      ]
     },
     "execution_count": 5,
     "metadata": {},
     "output_type": "execute_result"
    }
   ],
   "source": [
    "pop1 = 0.05\n",
    "T1 = 50\n",
    "t_meas = 5\n",
    "\n",
    "noise = {\n",
    "    'relaxation_rate': 1. / T1,\n",
    "    'thermal_populations': [1 - pop1, pop1],\n",
    "    'measure': {'gate_time': t_meas}\n",
    "}\n",
    "\n",
    "# Generate circuits and run on simulator\n",
    "job_cal = qiskit.execute(qst_bell, 'local_qasm_simulator', shots=5000,\n",
    "                         config={'noise_params': noise})\n",
    "\n",
    "# Extract tomography data so that countns are indexed by measurement configuration\n",
    "tomo_counts_noise = tomo.tomography_data(job_cal.result(), qst_bell)\n",
    "tomo_counts_noise"
   ]
  },
  {
   "cell_type": "code",
   "execution_count": 6,
   "metadata": {
    "collapsed": true
   },
   "outputs": [],
   "source": [
    "# Create Calibration matrix\n",
    "\n",
    "P1_0 = pop1 * np.exp(-t_meas / T1)\n",
    "P0_1 = (1 - pop1) * np.exp(-t_meas / T1)\n",
    "\n",
    "# Single qubit calibration matrix\n",
    "cal_mat_single = np.array([[1 - P1_0, P0_1], [P1_0, 1 - P0_1]])\n",
    "\n",
    "# 2-qubit calibration matrix\n",
    "cal_mat = np.kron(cal_mat_single, cal_mat_single)"
   ]
  },
  {
   "cell_type": "code",
   "execution_count": 7,
   "metadata": {},
   "outputs": [
    {
     "name": "stdout",
     "output_type": "stream",
     "text": [
      "Fitting without using calibration data\n",
      "Fit Fidelity = 0.8629529018407758\n"
     ]
    }
   ],
   "source": [
    "# Fitting without calibration matrix\n",
    "data_noise, basis_noise = tomo.fitter_data(tomo_counts_noise)\n",
    "rho_noise = tomo.cvx_fit(data_noise, basis_noise, trace=1)\n",
    "print('Fitting without using calibration data')\n",
    "print('Fit Fidelity =', state_fidelity(psi_bell, rho_noise))"
   ]
  },
  {
   "cell_type": "code",
   "execution_count": 8,
   "metadata": {},
   "outputs": [
    {
     "name": "stdout",
     "output_type": "stream",
     "text": [
      "Using calibration data to update basis matrix\n",
      "Fit Fidelity = 0.9976647540380019\n"
     ]
    }
   ],
   "source": [
    "# Fitting with calibration matrix by modifying POVMs\n",
    "data_noise_cal0, basis_noise_cal0 = tomo.fitter_data(tomo_counts_noise,\n",
    "                                                     calibration_matrix=cal_mat,\n",
    "                                                     calibration_method=0)\n",
    "rho_noise_cal0 = tomo.cvx_fit(data_noise_cal0, basis_noise_cal0, trace=1)\n",
    "print('Using calibration data to update basis matrix')\n",
    "print('Fit Fidelity =', state_fidelity(psi_bell, rho_noise_cal0))"
   ]
  },
  {
   "cell_type": "code",
   "execution_count": 9,
   "metadata": {},
   "outputs": [
    {
     "name": "stdout",
     "output_type": "stream",
     "text": [
      "Using calibration data to update basis matrix\n",
      "Fit Fidelity = 1.4009334882000983\n"
     ]
    }
   ],
   "source": [
    "# Fitting with calibration matrix by using the pseudo-inverse to update data\n",
    "data_noise_cal1, basis_noise_cal1 = tomo.fitter_data(tomo_counts_noise,\n",
    "                                                     calibration_matrix=cal_mat,\n",
    "                                                     calibration_method=1)\n",
    "rho_noise_cal1 = tomo.cvx_fit(data_noise_cal1, basis_noise_cal1, trace=1)\n",
    "print('Using calibration data to update basis matrix')\n",
    "print('Fit Fidelity =', state_fidelity(psi_bell, rho_noise_cal1))"
   ]
  },
  {
   "cell_type": "markdown",
   "metadata": {},
   "source": [
    "## Generating and fitting random states\n",
    "\n",
    "We now test the functions on state generated by a circuit consiting of a layer of random single qubit unitaries u3"
   ]
  },
  {
   "cell_type": "code",
   "execution_count": 10,
   "metadata": {
    "collapsed": true
   },
   "outputs": [],
   "source": [
    "def random_u3_tomo(nq, shots):\n",
    "    \n",
    "    def rand_angles():\n",
    "        return tuple(2 * np.pi * np.random.random(3) - np.pi)\n",
    "    q = QuantumRegister(nq)\n",
    "    circ = QuantumCircuit(q)\n",
    "    for j in range(nq):\n",
    "        circ.u3(*rand_angles(), q[j])\n",
    "    job = qiskit.execute(circ, 'local_statevector_simulator')\n",
    "    psi_rand = job.result().get_data(circ).get('statevector')\n",
    "    \n",
    "    qst_circs = tomo.state_tomography_circuits(circ, q)\n",
    "    job = qiskit.execute(qst_circs, 'local_qasm_simulator',\n",
    "                         shots=shots)\n",
    "    tomo_counts = tomo.tomography_data(job.result(), qst_circs)\n",
    "    data, basis = tomo.fitter_data(tomo_counts, beta=0.5)\n",
    "    \n",
    "    rho_cvx = tomo.cvx_fit(data, basis, PSD=True, trace=1)\n",
    "    rho_mle = tomo.mle_fit(data, basis, PSD=True, trace=1)\n",
    "    \n",
    "    print('F fit (CVX) =', state_fidelity(psi_rand, rho_cvx))\n",
    "    print('F fit (MLE) =', state_fidelity(psi_rand, rho_mle))"
   ]
  },
  {
   "cell_type": "code",
   "execution_count": 11,
   "metadata": {},
   "outputs": [
    {
     "name": "stdout",
     "output_type": "stream",
     "text": [
      "Random single-qubit unitaries: set 0\n",
      "F fit (CVX) = 0.993139966795\n",
      "F fit (MLE) = 0.992502267619\n",
      "Random single-qubit unitaries: set 1\n",
      "F fit (CVX) = 0.99756570372\n",
      "F fit (MLE) = 0.992870413411\n",
      "Random single-qubit unitaries: set 2\n",
      "F fit (CVX) = 0.996636242508\n",
      "F fit (MLE) = 0.992683042129\n",
      "Random single-qubit unitaries: set 3\n",
      "F fit (CVX) = 0.993695624583\n",
      "F fit (MLE) = 0.993728670904\n",
      "Random single-qubit unitaries: set 4\n",
      "F fit (CVX) = 0.994762227907\n",
      "F fit (MLE) = 0.99013622977\n",
      "Random single-qubit unitaries: set 5\n",
      "F fit (CVX) = 0.995650056729\n",
      "F fit (MLE) = 0.994889776396\n",
      "Random single-qubit unitaries: set 6\n",
      "F fit (CVX) = 0.991585653611\n",
      "F fit (MLE) = 0.987107366543\n",
      "Random single-qubit unitaries: set 7\n",
      "F fit (CVX) = 0.997408996026\n",
      "F fit (MLE) = 0.994625246208\n",
      "Random single-qubit unitaries: set 8\n",
      "F fit (CVX) = 0.999845955216\n",
      "F fit (MLE) = 0.997743553853\n",
      "Random single-qubit unitaries: set 9\n",
      "F fit (CVX) = 0.996075136028\n",
      "F fit (MLE) = 0.994086361858\n"
     ]
    }
   ],
   "source": [
    "for j in range(10):\n",
    "    print('Random single-qubit unitaries: set {}'.format(j))\n",
    "    random_u3_tomo(3, 2000)"
   ]
  },
  {
   "cell_type": "markdown",
   "metadata": {},
   "source": [
    "## 5-Qubit Bell State"
   ]
  },
  {
   "cell_type": "code",
   "execution_count": 9,
   "metadata": {},
   "outputs": [
    {
     "name": "stdout",
     "output_type": "stream",
     "text": [
      "Time taken: 15.38872480392456\n"
     ]
    }
   ],
   "source": [
    "# Create a state preparation circuit\n",
    "q5 = QuantumRegister(5)\n",
    "bell5 = QuantumCircuit(q5)\n",
    "bell5.h(q5[0])\n",
    "for j in range(4):\n",
    "    bell5.cx(q5[j], q5[j + 1])\n",
    "\n",
    "# Get ideal output state\n",
    "job = qiskit.execute(bell5, 'local_statevector_simulator')\n",
    "psi_bell5 = job.result().get_data(bell5).get('statevector')\n",
    "\n",
    "# Generate circuits and run on simulator\n",
    "t = time.time()\n",
    "qst_bell5 = tomo.state_tomography_circuits(bell5, q5)\n",
    "job = qiskit.execute(qst_bell5, 'local_qasm_simulator', shots=5000)\n",
    "\n",
    "# Extract tomography data so that countns are indexed by measurement configuration\n",
    "tomo_counts_bell5 = tomo.tomography_data(job.result(), qst_bell5)\n",
    "data_bell5, basis_bell5 = tomo.fitter_data(tomo_counts_bell5)\n",
    "print('Time taken:', time.time() - t)"
   ]
  },
  {
   "cell_type": "code",
   "execution_count": 16,
   "metadata": {},
   "outputs": [
    {
     "name": "stdout",
     "output_type": "stream",
     "text": [
      "MLE Reconstruction\n",
      "Time taken: 4.590576887130737\n",
      "Fit Fidelity: 0.994050438135\n"
     ]
    }
   ],
   "source": [
    "t = time.time()\n",
    "rho_mle_bell5 = tomo.mle_fit(data_bell5, basis_bell5,\n",
    "                             PSD=True, trace=1)\n",
    "print('MLE Reconstruction')\n",
    "print('Time taken:', time.time() - t)\n",
    "print('Fit Fidelity:', state_fidelity(psi_bell5, rho_mle_bell5))"
   ]
  },
  {
   "cell_type": "code",
   "execution_count": 17,
   "metadata": {},
   "outputs": [
    {
     "name": "stdout",
     "output_type": "stream",
     "text": [
      "SDP Reconstruction\n",
      "Time taken: 90.71169567108154\n",
      "Fidelity: 0.996387710362\n"
     ]
    }
   ],
   "source": [
    "t = time.time()\n",
    "rho_sdp_bell5 = tomo.cvx_fit(data_bell5, basis_bell5, PSD=True, solver='CVXOPT')\n",
    "print('SDP Reconstruction')\n",
    "print('Time taken:', time.time() - t)\n",
    "print('Fidelity:', state_fidelity(psi_bell5, rho_sdp_bell5))"
   ]
  }
 ],
 "metadata": {
  "kernelspec": {
   "display_name": "Python (cvx)",
   "language": "python",
   "name": "cvx"
  },
  "language_info": {
   "codemirror_mode": {
    "name": "ipython",
    "version": 3
   },
   "file_extension": ".py",
   "mimetype": "text/x-python",
   "name": "python",
   "nbconvert_exporter": "python",
   "pygments_lexer": "ipython3",
   "version": "3.6.5"
  }
 },
 "nbformat": 4,
 "nbformat_minor": 2
}
