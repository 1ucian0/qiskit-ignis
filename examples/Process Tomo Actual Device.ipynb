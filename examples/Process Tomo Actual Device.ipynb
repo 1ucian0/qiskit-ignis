{
 "cells": [
  {
   "cell_type": "markdown",
   "metadata": {},
   "source": [
    "# Quantum Process Tomography\n",
    "\n",
    "* **Last Updated:** Jan 24, 2019\n",
    "* **Requires:** qiskit-terra 0.7"
   ]
  },
  {
   "cell_type": "code",
   "execution_count": 1,
   "metadata": {},
   "outputs": [],
   "source": [
    "# Needed for functions\n",
    "import numpy as np\n",
    "import time\n",
    "\n",
    "# Import QISKit classes\n",
    "import qiskit\n",
    "from qiskit import QuantumRegister, QuantumCircuit, Aer\n",
    "from qiskit.quantum_info import state_fidelity\n",
    "from qiskit.tools.qi.qi import outer\n",
    "\n",
    "# Tomography functions\n",
    "import sys, os\n",
    "sys.path.append(os.path.abspath(os.path.join('../qiskit_ignis')))\n",
    "import tomography as tomo\n",
    "import measurement_correction as mc\n",
    "\n",
    "qiskit.IBMQ.load_accounts()"
   ]
  },
  {
   "cell_type": "code",
   "execution_count": 5,
   "metadata": {},
   "outputs": [
    {
     "data": {
      "text/plain": [
       "[<IBMQBackend('ibmq_20_tokyo') from IBMQ(ibm-q-internal, development, qiskit-core)>,\n",
       " <IBMQBackend('ibmq_qasm_simulator') from IBMQ(ibm-q-internal, development, qiskit-core)>,\n",
       " <IBMQBackend('ibmqx4') from IBMQ()>,\n",
       " <IBMQBackend('ibmq_16_melbourne') from IBMQ()>,\n",
       " <IBMQBackend('ibmq_qasm_simulator') from IBMQ()>,\n",
       " <IBMQBackend('ibmq_20_tokyo') from IBMQ(ibm-q-perf, performance, default-params)>,\n",
       " <IBMQBackend('Bludger') from IBMQ(ibm-q-perf, performance, default-params)>,\n",
       " <IBMQBackend('Fluffy') from IBMQ(ibm-q-perf, performance, default-params)>,\n",
       " <IBMQBackend('Hedwig') from IBMQ(ibm-q-perf, performance, default-params)>,\n",
       " <IBMQBackend('ibmq_poughkeepsie') from IBMQ(ibm-q-perf, performance, default-params)>,\n",
       " <IBMQBackend('ibmq_qasm_simulator') from IBMQ(ibm-q-perf, performance, default-params)>,\n",
       " <IBMQBackend('ibmq_20_tokyo') from IBMQ(ibm-q-perf, performance, instrumented)>,\n",
       " <IBMQBackend('Fluffy') from IBMQ(ibm-q-perf, performance, instrumented)>,\n",
       " <IBMQBackend('Hedwig') from IBMQ(ibm-q-perf, performance, instrumented)>,\n",
       " <IBMQBackend('tokyo_0') from IBMQ(ibm-q-perf, performance, instrumented)>,\n",
       " <IBMQBackend('ibmq_poughkeepsie') from IBMQ(ibm-q-perf, performance, instrumented)>,\n",
       " <IBMQBackend('ibmq_qasm_simulator') from IBMQ(ibm-q-perf, performance, instrumented)>]"
      ]
     },
     "execution_count": 5,
     "metadata": {},
     "output_type": "execute_result"
    }
   ],
   "source": [
    "qiskit.IBMQ.backends()"
   ]
  },
  {
   "cell_type": "code",
   "execution_count": 6,
   "metadata": {},
   "outputs": [],
   "source": [
    "#load backends\n",
    "backend_pok = qiskit.IBMQ.get_backend('ibmq_poughkeepsie', hub='ibm-q-perf', group='performance', project='default-params')\n",
    "backend_aer = Aer.get_backend('qasm_simulator')\n",
    "backend_hed = qiskit.IBMQ.get_backend('Hedwig', hub='ibm-q-perf', group='performance', project='default-params')\n",
    "\n",
    "shots = 8192\n"
   ]
  },
  {
   "cell_type": "markdown",
   "metadata": {},
   "source": [
    "## 2-Qubit entangling circuit"
   ]
  },
  {
   "cell_type": "code",
   "execution_count": 3,
   "metadata": {},
   "outputs": [
    {
     "data": {
      "text/plain": [
       "144"
      ]
     },
     "execution_count": 3,
     "metadata": {},
     "output_type": "execute_result"
    }
   ],
   "source": [
    "len(qpt_circs)"
   ]
  },
  {
   "cell_type": "code",
   "execution_count": 65,
   "metadata": {},
   "outputs": [
    {
     "name": "stdout",
     "output_type": "stream",
     "text": [
      "[(QuantumRegister(2, 'q12'), 0), (QuantumRegister(2, 'q12'), 1)]\n"
     ]
    }
   ],
   "source": [
    "# Bell-state entangling circuit\n",
    "q = QuantumRegister(2)\n",
    "circ = QuantumCircuit(q)\n",
    "circ.cx(q[0], q[1])\n",
    "#circ.u1(-0.1,q[1])\n",
    "#circ.u1(0.3,q[0])\n",
    "\n",
    "# Run circuit on unitary simulator to find ideal unitary\n",
    "job = qiskit.execute(circ, Aer.get_backend('unitary_simulator'))\n",
    "ideal_unitary = job.result().get_unitary(circ)\n",
    "# convert to Choi-matrix in column-major convention\n",
    "choi_ideal = outer(ideal_unitary.ravel(order='F'))\n",
    "\n",
    "# Generate process tomography circuits and run on qasm simulator\n",
    "qpt_circs = tomo.process_tomography_circuits(circ, q)\n",
    "qobj_tomo = qiskit.compile(qpt_circs, backend_pok, shots=8192)\n",
    "job_tomo = backend_pok.run(qobj_tomo)"
   ]
  },
  {
   "cell_type": "code",
   "execution_count": 48,
   "metadata": {},
   "outputs": [
    {
     "data": {
      "text/plain": [
       "array([[1.+0.j, 0.+0.j, 0.+0.j, 0.+0.j],\n",
       "       [0.+0.j, 1.+0.j, 0.+0.j, 0.+0.j],\n",
       "       [0.+0.j, 0.+0.j, 0.+0.j, 1.+0.j],\n",
       "       [0.+0.j, 0.+0.j, 1.+0.j, 0.+0.j]])"
      ]
     },
     "execution_count": 48,
     "metadata": {},
     "output_type": "execute_result"
    }
   ],
   "source": [
    "ideal_unitary"
   ]
  },
  {
   "cell_type": "code",
   "execution_count": 67,
   "metadata": {},
   "outputs": [],
   "source": [
    "cal_circs, state_labels = mc.measurement_calibration_circuits(q)\n",
    "qobj_cal = qiskit.compile(cal_circs, backend_pok, shots=8192)\n",
    "job_cal = backend_pok.run(qobj_cal)"
   ]
  },
  {
   "cell_type": "code",
   "execution_count": 69,
   "metadata": {},
   "outputs": [
    {
     "data": {
      "text/plain": [
       "<JobStatus.DONE: 'job has successfully run'>"
      ]
     },
     "execution_count": 69,
     "metadata": {},
     "output_type": "execute_result"
    }
   ],
   "source": [
    "job_cal.status()"
   ]
  },
  {
   "cell_type": "code",
   "execution_count": 70,
   "metadata": {},
   "outputs": [
    {
     "data": {
      "text/plain": [
       "<JobStatus.DONE: 'job has successfully run'>"
      ]
     },
     "execution_count": 70,
     "metadata": {},
     "output_type": "execute_result"
    }
   ],
   "source": [
    "job_tomo.status()"
   ]
  },
  {
   "cell_type": "code",
   "execution_count": 169,
   "metadata": {},
   "outputs": [],
   "source": [
    "# Extract tomography data so that counts are indexed by measurement configuration\n",
    "qpt_counts = tomo.tomography_data(job_tomo.result(), qpt_circs)\n",
    "\n",
    "# Extract fitter data from tomography counts\n",
    "data, basis, weights = tomo.fitter_data(qpt_counts)\n",
    "\n",
    "#correct meas error\n",
    "cal_matrix = mc.generate_calibration_matrix(job_cal.result(),state_labels)\n",
    "data = mc.remove_measurement_errors(data,state_labels,cal_matrix, method=1)"
   ]
  },
  {
   "cell_type": "code",
   "execution_count": 196,
   "metadata": {},
   "outputs": [
    {
     "name": "stdout",
     "output_type": "stream",
     "text": [
      "MLE Fitter\n",
      "fit time: 0.04538702964782715\n",
      "fit fidelity: 0.9615082588838024\n",
      "\n",
      "CVXOPT Fitter\n",
      "fit time: 1.0366861820220947\n",
      "fit fidelity: 0.9657557073661637\n"
     ]
    }
   ],
   "source": [
    "t = time.time()\n",
    "choi_mle = tomo.process_mle_fit(data, basis, weights)\n",
    "print('MLE Fitter')\n",
    "print('fit time:', time.time() - t)\n",
    "print('fit fidelity:', state_fidelity(choi_ideal / 4, choi_mle / 4))\n",
    "\n",
    "t = time.time()\n",
    "choi_cvx = tomo.process_cvx_fit(data, basis, weights)\n",
    "print('\\nCVXOPT Fitter')\n",
    "print('fit time:', time.time() - t)\n",
    "print('fit fidelity:', state_fidelity(choi_ideal / 4, choi_cvx / 4))"
   ]
  },
  {
   "cell_type": "code",
   "execution_count": 140,
   "metadata": {},
   "outputs": [],
   "source": [
    "weights2 = weights.copy()"
   ]
  },
  {
   "cell_type": "code",
   "execution_count": 146,
   "metadata": {},
   "outputs": [
    {
     "data": {
      "text/plain": [
       "[<matplotlib.lines.Line2D at 0x1a321a5128>]"
      ]
     },
     "execution_count": 146,
     "metadata": {},
     "output_type": "execute_result"
    },
    {
     "data": {
      "image/png": "[encoded data removed]",
      "text/plain": [
       "<Figure size 432x288 with 1 Axes>"
      ]
     },
     "metadata": {
      "needs_background": "light"
     },
     "output_type": "display_data"
    }
   ],
   "source": [
    "import matplotlib.pyplot as plt\n",
    "plt.plot(np.array(weights)-np.array(weights2))\n"
   ]
  },
  {
   "cell_type": "code",
   "execution_count": 107,
   "metadata": {},
   "outputs": [],
   "source": [
    "%autoreload 2"
   ]
  },
  {
   "cell_type": "code",
   "execution_count": 172,
   "metadata": {},
   "outputs": [
    {
     "data": {
      "text/plain": [
       "((0.965747094569017+7.435772726481358e-07j),\n",
       " (0.9725976756552136+5.948618181185087e-07j))"
      ]
     },
     "execution_count": 172,
     "metadata": {},
     "output_type": "execute_result"
    }
   ],
   "source": [
    "GateFidelityRauli(qiskit.tools.qi.qi.choi_to_rauli(choi_cvx)/4,qiskit.tools.qi.qi.choi_to_rauli(choi_ideal)/4)"
   ]
  },
  {
   "cell_type": "code",
   "execution_count": null,
   "metadata": {},
   "outputs": [],
   "source": []
  },
  {
   "cell_type": "code",
   "execution_count": 74,
   "metadata": {},
   "outputs": [],
   "source": [
    "def GateFidelityRauli(raulitheory,rauliexp):\n",
    "    \n",
    "    #len(rauliexp) is 4**nq\n",
    "    #hspace (hilbert space) is 2**nq\n",
    "    hspace = np.log(len(rauliexp))/np.log(2)\n",
    "    fidp=np.trace(np.dot(np.transpose(raulitheory),rauliexp))/len(rauliexp)\n",
    "    fidg=(hspace*fidp+1)/(hspace+1)\n",
    "    \n",
    "    return fidp,fidg"
   ]
  },
  {
   "cell_type": "code",
   "execution_count": null,
   "metadata": {},
   "outputs": [],
   "source": []
  }
 ],
 "metadata": {
  "kernelspec": {
   "display_name": "Python 3",
   "language": "python",
   "name": "python3"
  },
  "language_info": {
   "codemirror_mode": {
    "name": "ipython",
    "version": 3
   },
   "file_extension": ".py",
   "mimetype": "text/x-python",
   "name": "python",
   "nbconvert_exporter": "python",
   "pygments_lexer": "ipython3",
   "version": "3.6.8"
  }
 },
 "nbformat": 4,
 "nbformat_minor": 2
}
