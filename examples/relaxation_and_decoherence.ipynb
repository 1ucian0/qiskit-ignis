{
 "cells": [
  {
   "cell_type": "markdown",
   "metadata": {},
   "source": [
    "<img src=\"../../images/qiskit-heading.gif\" alt=\"Note: In order for images to show up in this jupyter notebook you need to select File => Trusted Notebook\" width=\"500 px\" align=\"left\">"
   ]
  },
  {
   "cell_type": "markdown",
   "metadata": {},
   "source": [
    "## _*Relaxation and Decoherence*_ \n",
    "\n",
    "The latest version of this notebook is available on https://github.com/qiskit/qiskit-tutorial.\n",
    "\n",
    "***\n",
    "### Contributors\n",
    "Martin Sandberg, Hanhee Paik, Antonio Córcoles, Doug McClure, Jay Gambetta, and Yael Ben-Haim"
   ]
  },
  {
   "cell_type": "code",
   "execution_count": 1,
   "metadata": {},
   "outputs": [],
   "source": [
    "import numpy as np\n",
    "import matplotlib.pyplot as plt\n",
    "\n",
    "import qiskit\n",
    "from qiskit.providers.aer.noise.errors.standard_errors import amplitude_damping_error\n",
    "from qiskit.providers.aer.noise.errors.standard_errors import phase_damping_error\n",
    "from qiskit.providers.aer.noise import NoiseModel\n",
    "\n",
    "import sys, os\n",
    "sys.path.append(os.path.abspath(os.path.join('..')))\n",
    "\n",
    "from qiskit.ignis.characterization.coherence import T1Fitter, T2StarOscFitter, T2Fitter\n",
    "from qiskit.ignis.characterization.coherence import t1_circuits, t2_circuits, t2star_circuits"
   ]
  },
  {
   "cell_type": "markdown",
   "metadata": {},
   "source": [
    "## Introduction\n",
    "\n",
    "In an ideal world, quantum systems would be well-isolated from their environment, which prevents unwanted dynamics of the quantum information we encode in them. For example, suppose we prepared a qubit in the $|1\\rangle$ state, but through interaction with the environment, the state is flipped to $|0\\rangle$. That flip could affect the outcome of a quantum algorithm that's being run using that qubit, meaning the answers we get out of the quantum device would change. For this reason, we seek to isolate quantum computers from the surrounding environment.\n",
    "\n",
    "However, perfect isolation is not possible: after all, we have to be able to control the quantum computer, which means coupling it to external systems to manipulate quantum information. This tradeoff is sometimes referred to as the \"Tao of quantum computing\". Because our controls introduce coupling between qubits and the environment, we expect some unwanted interactions can occur.\n",
    "\n",
    "These unwanted interactions introduce _noise_ into the qubits, which affects their behavior. The rate of these interactions sets characteristic timescales over which information encoded in qubits can be reliably stored and manipulated. (If the interaction has a rate $\\Gamma$, the characteristic timescale is $\\sim 1/\\Gamma$.) In this tutorial, we discuss two timescales that arise from energy relaxation and decoherence -- usually referred to as $T_{1}$ and $T_{2}$, respectively -- and show how they can be measured.\n",
    "\n",
    "**Contents**\n",
    "\n",
    "[Measuring $T_{1}$ time](#t1)\n",
    "\n",
    "<a href='#t2star'>Measuring $T_{2}^{\\star}$ time</a>"
   ]
  },
  {
   "cell_type": "markdown",
   "metadata": {},
   "source": [
    "# Measuring $T_1$ time\n",
    "\n",
    "**Theory**\n",
    "\n",
    "The $T_{1}$ time is the characteristic timescale over which the state of a qubit damps toward the $|0\\rangle$ state. Given an arbitrary initial single-qubit state $\\rho(0)$, represented by a $2\\times 2$ matrix as\n",
    "$$\\rho(0) = \\begin{pmatrix}\\rho_{00} & \\rho_{01} \\\\ \\rho_{01}^{\\star} & \\rho_{11}\\end{pmatrix},$$\n",
    "under amplitude damping noise, the state of the changes as\n",
    "$$\\rho(t) = \\begin{pmatrix}\\rho_{00} + (1-e^{-\\Gamma_{1}t})\\rho_{11} & e^{-\\Gamma_{1}t/2}\\rho_{01} \\\\ e^{-\\Gamma_{1}t/2}\\rho_{01}^{\\star} & e^{-\\Gamma_{1} t}\\rho_{11}\\end{pmatrix} \\underset{t\\rightarrow \\infty}{\\longrightarrow} |0\\rangle\\langle 0|.$$\n",
    "\n",
    "Notice that amplitude damping noise also removes any coherences between $|0\\rangle$ and $|1\\rangle$ of the state (the off-diagonal elements.) The rate at which this _decoherence_ occurs is half that of $\\Gamma_{1}$.\n",
    "\n",
    "The time evolution of the state under amplitude damping noise can be derived as the continuous-time limit of an amplitude damping channel\n",
    "$$\\mathcal{E}[\\rho] = M_{0} \\rho M_{0}^{\\dagger} + M_{1}\\rho M_{1}^{\\dagger},$$\n",
    "where\n",
    "$$M_{0} = \\begin{pmatrix} 1 & 0 \\\\0& \\sqrt{1-p}\\end{pmatrix}~,~M_{1} = \\begin{pmatrix} 0 & \\sqrt{p} \\\\ 0 & 0 \\end{pmatrix},$$\n",
    "and the probability of decay $p$ is $\\Gamma_{1}\\Delta t$.\n",
    "\n",
    "The decay rate $\\Gamma_{1}$ sets a natural time scale for the decay process; namely, $\\Gamma^{-1}$. This number is often called the $T_{1}$ time. Notice the off-diagonal elements also decay, with characteristic decay rate $\\Gamma /2$.\n",
    "\n",
    "Notice that the probability of the qubit remaining in the $|1\\rangle$ state is given by\n",
    "\n",
    "$$P_{1}(t) = \\mathrm{Tr}\\left[|1\\rangle\\langle 1| \\rho(t)\\right] = e^{-\\Gamma_{1} t}\\rho_{11}.$$\n",
    "\n",
    "If the qubit was prepared in the $|1\\rangle$ state, then $P_{1}(t) =e^{-\\Gamma_{1} t}$.\n",
    "\n",
    "A simple way of estimating the $T_{1}$ time is to collect statistics about the decay curve for $P_{1}(t)$ when the qubit is initialized to $|1\\rangle$. This can be done by choosing a variety of times $t_{1}, t_{2}, \\cdots t_{N}$, and then running the following experiment many times:\n",
    "* Prepare the qubit in $|1\\rangle$.\n",
    "* Wait a delay time $t_{j}$.\n",
    "* Measure the qubit in the $|0\\rangle, |1\\rangle$ basis.\n",
    "\n",
    "An estimate of $P_{1}(t_{j})$ is the number of times the qubit was observed to be in $|1\\rangle$, divided by the total number of times the experiment was repeated. Given several estimated values of $P_{1}$ for a variety of $(t_{j})$, we can fit the resulting decay curve is fit to an exponential and extract an estimate of $\\Gamma_{1}$, and hence, the $T_{1}$ time.\n",
    "\n",
    "The IBM Q Experience does not currently support delays of arbitrary length, so for now, we just append a series of identity operations after the initial excitation pulse. Each identity operation has the same duration of a single-qubit gate and is followed by a -shorter- buffer time. These parameters are backend-dependent.\n",
    "\n",
    "**Code**\n",
    "\n",
    "The code blocks below walk through constructing the requisite experiments to estimate the $T_{1}$ time of a qubit, sending those experiments to a simulator, and then fitting the data the simulator sends back."
   ]
  },
  {
   "cell_type": "code",
   "execution_count": 2,
   "metadata": {
    "ExecuteTime": {
     "end_time": "2018-12-18T15:34:52.275440Z",
     "start_time": "2018-12-18T15:32:05.667514Z"
    }
   },
   "outputs": [],
   "source": [
    "import numpy as np\n",
    "from qiskit.ignis.characterization.coherence import t1_circuits\n",
    "\n",
    "# 12 numbers ranging from 10 to 1000, logarithmically spaced\n",
    "# extra point at 1500\n",
    "num_of_gates = np.append((np.logspace(1, 3, 12)).astype(int), np.array([1500]))\n",
    "gate_time = 0.1\n",
    "\n",
    "# Select the qubit whose T1 is to be measured\n",
    "qubits = [0, 2]\n",
    "\n",
    "# Generate experiments\n",
    "circs, xdata = t1_circuits(num_of_gates, gate_time, qubits)"
   ]
  },
  {
   "cell_type": "code",
   "execution_count": 3,
   "metadata": {},
   "outputs": [],
   "source": [
    "import qiskit\n",
    "from qiskit.providers.aer.noise.errors.standard_errors import \\\n",
    "                                     amplitude_damping_error\n",
    "from qiskit.providers.aer.noise import NoiseModel\n",
    "\n",
    "# Set the simulator with amplitude damping noise\n",
    "t1_0 = 25.0\n",
    "gamma = 1 - np.exp(-gate_time/t1_0)\n",
    "error = amplitude_damping_error(gamma)\n",
    "t1_2 = 15.0\n",
    "gamma = 1 - np.exp(-gate_time/t1_2)\n",
    "error2 = amplitude_damping_error(gamma)\n",
    "noise_model = NoiseModel()\n",
    "noise_model.add_quantum_error(error, 'id', [0])\n",
    "noise_model.add_quantum_error(error2, 'id', [2])\n",
    "\n",
    "\n",
    "# Run the simulator\n",
    "backend = qiskit.Aer.get_backend('qasm_simulator')\n",
    "shots = 300\n",
    "backend_result = qiskit.execute(circs, backend,\n",
    "                                shots=shots, noise_model=noise_model).result()"
   ]
  },
  {
   "cell_type": "code",
   "execution_count": 4,
   "metadata": {},
   "outputs": [
    {
     "name": "stdout",
     "output_type": "stream",
     "text": [
      "[24.85142367120919, 12.954529287376156]\n"
     ]
    },
    {
     "data": {
      "image/png": "[encoded data removed]",
      "text/plain": [
       "<matplotlib.figure.Figure at 0x7f03bc720a20>"
      ]
     },
     "metadata": {
      "needs_background": "light"
     },
     "output_type": "display_data"
    }
   ],
   "source": [
    "from matplotlib import pyplot as plt\n",
    "from qiskit.ignis.characterization.coherence import T1Fitter\n",
    "\n",
    "%matplotlib inline\n",
    "# Fit the data to an exponential\n",
    "# The correct answers are a=1, and c=0, and t1=25/15 for qubit 0/2\n",
    "# The user does not know the correct answer exactly,\n",
    "# so starts the fit from a different but close location\n",
    "\n",
    "plt.figure(figsize=(15, 6))\n",
    "\n",
    "initial_t1 = t1_0*1.2\n",
    "initial_a = 1.0\n",
    "initial_c = 0.0\n",
    "fit = T1Fitter(backend_result, shots, xdata, qubits,\n",
    "                   fit_p0=[initial_a, initial_t1, initial_c],\n",
    "                   fit_bounds=([0, 0, -1], [2, initial_t1*2, 1]))\n",
    "\n",
    "for i in range(2):\n",
    "    ax = plt.subplot(1, 2, i+1)\n",
    "    fit.plot_coherence(i, ax)\n",
    "    \n",
    "print(fit.time)\n",
    "plt.show()"
   ]
  },
  {
   "cell_type": "markdown",
   "metadata": {},
   "source": [
    "# Measuring $T_2^*$ time\n",
    "\n",
    "**Theory**\n",
    "\n",
    "Amplitude damping noise affects the off-diagonal elements of the density matrix in addition to the on-diagonal elements. However, there are other noise processes that only affect the off-diagonal elements, while keeping the on-diagonal elements the same. These kinds of noise processes cause _decoherence_.\n",
    "\n",
    "As a simple example of decoherence, consider the pure superposition state\n",
    "$$|\\psi(\\theta)\\rangle = \\frac{1}{\\sqrt{2}}\\left(|0\\rangle + e^{i\\theta}|1\\rangle\\right).$$\n",
    "Expressed as a density matrix, this state is\n",
    "$$\\rho(\\theta) = |\\psi(\\theta)\\rangle \\langle\\psi(\\theta)| = \\frac{1}{2}\\begin{pmatrix}1 & e^{-i\\theta} \\\\ e^{i\\theta} & 1\\end{pmatrix}.$$\n",
    "\n",
    "This state has _coherence_ between $|0\\rangle$ and $|1\\rangle$, which manifests itself in the non-zero off-diagonal terms. If the state had _decohered_, those off-diagonal terms would be zero:\n",
    "$$\\rho_{\\mathrm{decohered}} =  \\frac{1}{2}\\begin{pmatrix}1 & 0 \\\\ 0 & 1\\end{pmatrix}.$$\n",
    "When the state has decohered, it can be written as a classical _mixture_:\n",
    "$$\\rho_{\\mathrm{decohered}} = \\frac{1}{2}\\left(|0\\rangle \\langle 0| + |1\\rangle \\langle 1|\\right).$$\n",
    "\n",
    "One mechanism by which decoherence happens is _dephasing_. Under dephasing noise, the state of the qubit evolves as\n",
    "$$\\rho(t) = \\begin{pmatrix}\\rho_{00} & e^{-\\Gamma_{2}t}\\rho_{01} \\\\ e^{-\\Gamma_{2}t}\\rho_{01}^{\\star} & \\rho_{11}\\end{pmatrix} \\underset{t\\rightarrow \\infty}{\\longrightarrow} \\begin{pmatrix}\\rho_{00} & 0\\\\ 0& \\rho_{11}\\end{pmatrix}.$$\n",
    "\n",
    "The time evolution of $\\rho$ under dephasing noise can be derived as the continuous-time limit of the following noise channel:\n",
    "$$\\mathcal{E}[\\rho] = M_{0}\\rho M_{0}^{\\dagger} + M_{1} \\rho M_{1}^{\\dagger} + M_{2}\\rho M_{2}^{\\dagger},$$\n",
    "where\n",
    "$$M_{0} =\\sqrt{1-p}I~,~M_{1} = \\sqrt{p}\\begin{pmatrix}1 &0 \\\\ 0 & 0 \\end{pmatrix}~,~M_{2} = \\sqrt{p}\\begin{pmatrix}0 & 0 \\\\ 0 & 1\\end{pmatrix}.$$\n",
    "\n",
    "\n",
    "The rate of decay in the coherences can be measured by the following experiment:\n",
    "\n",
    "* Prepare the qubit in the $|+\\rangle$ state, which can be done by initializing the qubit to $|0\\rangle$ and applying a Hadamard gate, $H$.\n",
    "* Wait a delay time $t_{j}$.\n",
    "* Measure the qubit in the $|\\pm\\rangle$ basis, which can be done by applying a Hadamard and then measuring in the computational basis.\n",
    "\n",
    "If decoherence processes are present, then after a delay time $t_{j}$, the state of the qubit is\n",
    "\n",
    "$$\\rho(t_{j}) = \\frac{1}{2}\\begin{pmatrix}1 & e^{-\\Gamma_{2}t_{j}} \\\\ e^{-\\Gamma_{2}t_{j}} & 1\\end{pmatrix}.$$\n",
    "\n",
    "Measuring in the $|\\pm\\rangle$ basis, the probability of observing the outcome $|+\\rangle$ is given by\n",
    "\n",
    "$$P_{+}(t_{j}) = \\mathrm{Tr}\\left(|+\\rangle \\langle + | \\rho(t_{j})\\right) = \\frac{1}{2}\\left(1 + e^{-\\Gamma_{2}t_{j}}\\right).$$\n",
    "\n",
    "Again, by estimating $P_{+}(t_{j})$ for a variety of $t_{j}$, we can then fit a decay curve to extract an estimate of $\\Gamma_{2}$.\n",
    "\n",
    "In the actual experiment, we change the phase of the pulse before the measurement in order to create oscillations in the observed dynamics of $P_{+}(t_{j})$. If we just did two Hadamard gates separated by a delay, we would observe a decay of characteristic time $T^*_2$, but with a strong dependence on any deviation of the calibrated qubit frequency from the actual one. By implementing the qubit pulses with different phases, we shift the frequency dependence into the oscillating feature of the dynamics, and can fit the decaying envelope for a more faithful measure of the coherence time."
   ]
  },
  {
   "cell_type": "code",
   "execution_count": null,
   "metadata": {
    "ExecuteTime": {
     "end_time": "2018-12-18T15:34:52.275440Z",
     "start_time": "2018-12-18T15:32:05.667514Z"
    }
   },
   "outputs": [],
   "source": [
    "# 50 points linearly spaced in two regions (fine and coarse)\n",
    "# 30 from 10->150, 20 from 160->450\n",
    "num_of_gates = np.append((np.linspace(10, 150, 30)).astype(int), (np.linspace(160,450,20)).astype(int))\n",
    "gate_time = 0.1\n",
    "num_of_qubits = 1\n",
    "\n",
    "# Select the qubit whose T2* is to be measured\n",
    "qubit = 0\n",
    "\n",
    "# Generate experiments\n",
    "# omega is the oscillator's frequency\n",
    "circs, xdata, osc_freq = t2star_circuits(num_of_gates, gate_time, num_of_qubits, qubit, nosc=5)"
   ]
  },
  {
   "cell_type": "code",
   "execution_count": null,
   "metadata": {},
   "outputs": [],
   "source": [
    "backend = qiskit.Aer.get_backend('qasm_simulator')\n",
    "\n",
    "# Set the simulator with phase damping noise\n",
    "t2 = 10\n",
    "p = 1 - np.exp(-2*gate_time/t2)\n",
    "error = phase_damping_error(p)\n",
    "noise_model = NoiseModel()\n",
    "noise_model.add_all_qubit_quantum_error(error, 'id')\n",
    "\n",
    "# Run the simulator\n",
    "shots = 300\n",
    "backend_result = qiskit.execute(circs, backend,\n",
    "                                shots=shots, noise_model=noise_model, backend_options={'max_parallel_experiments': 0}).result()"
   ]
  },
  {
   "cell_type": "code",
   "execution_count": null,
   "metadata": {},
   "outputs": [],
   "source": [
    "%matplotlib inline\n",
    "\n",
    "# Fit the data to an oscillator\n",
    "# The correct answers are a=0.5, t2=50, f=omega, phi=0, and c=0.5\n",
    "# The user does not know the correct answer exactly,\n",
    "# so starts the fit from a different but close location\n",
    "initial_t2 = t2*1.1\n",
    "initial_a = 1\n",
    "initial_c = 0\n",
    "initial_f = osc_freq \n",
    "initial_phi = -np.pi/20\n",
    "\n",
    "fit = T2StarOscFitter(backend_result, shots, xdata, num_of_qubits, qubit,\n",
    "                      fit_p0=[initial_a, initial_t2, initial_f, initial_phi, initial_c],\n",
    "                      fit_bounds=([-0.5, 0, 0, -np.pi, -0.5],\n",
    "                                  [1.5, 2*t2, 2*osc_freq, np.pi, 1.5]))\n",
    "\n",
    "# 'fit' contains information about the T2* estimate\n",
    "# For example, we can print the esitmated T2*:\n",
    "print(fit.time)\n",
    "# Or display the information in a figure\n",
    "fit.plot_coherence(show_plot=False)"
   ]
  },
  {
   "cell_type": "markdown",
   "metadata": {},
   "source": [
    "## Measuring T2 Time"
   ]
  },
  {
   "cell_type": "markdown",
   "metadata": {},
   "source": [
    "Same as T2*, but with an echo pulse in the middle to remove low frequency noise."
   ]
  },
  {
   "cell_type": "code",
   "execution_count": null,
   "metadata": {
    "ExecuteTime": {
     "end_time": "2018-12-18T15:34:52.275440Z",
     "start_time": "2018-12-18T15:32:05.667514Z"
    }
   },
   "outputs": [],
   "source": [
    "# 50 points linearly spaced to 300\n",
    "num_of_gates = (np.linspace(10, 300, 50)).astype(int)\n",
    "gate_time = 0.1\n",
    "num_of_qubits = 1\n",
    "\n",
    "# Select the qubit whose T2 is to be measured\n",
    "qubit = 0\n",
    "\n",
    "# Generate experiments\n",
    "# omega is the oscillator's frequency\n",
    "circs, xdata = t2_circuits(num_of_gates, gate_time, num_of_qubits, qubit)"
   ]
  },
  {
   "cell_type": "code",
   "execution_count": null,
   "metadata": {},
   "outputs": [],
   "source": [
    "backend = qiskit.Aer.get_backend('qasm_simulator')\n",
    "\n",
    "# Set the simulator with phase damping noise\n",
    "t2 = 10\n",
    "p = 1 - np.exp(-2*gate_time/t2)\n",
    "error = phase_damping_error(p)\n",
    "noise_model = NoiseModel()\n",
    "noise_model.add_all_qubit_quantum_error(error, 'id')\n",
    "\n",
    "# Run the simulator\n",
    "shots = 300\n",
    "backend_result = qiskit.execute(circs, backend,\n",
    "                                shots=shots, noise_model=noise_model, backend_options={'max_parallel_experiments': 0}).result()"
   ]
  },
  {
   "cell_type": "code",
   "execution_count": null,
   "metadata": {},
   "outputs": [],
   "source": [
    "%matplotlib inline\n",
    "\n",
    "# Fit the data to an oscillator\n",
    "# The correct answers are a=0.5, t2=50, f=omega, phi=0, and c=0.5\n",
    "# The user does not know the correct answer exactly,\n",
    "# so starts the fit from a different but close location\n",
    "initial_t2 = t2*1.1\n",
    "initial_a = 1\n",
    "initial_c = 0\n",
    "\n",
    "fit = T2Fitter(backend_result, shots, xdata, num_of_qubits, qubit,\n",
    "                      fit_p0=[initial_a, initial_t2, initial_c],\n",
    "                      fit_bounds=([-0.5, 0, -0.5],\n",
    "                                  [1.5, 2*t2, 1.5]))\n",
    "\n",
    "# 'fit' contains information about the T2* estimate\n",
    "# For example, we can print the esitmated T2*:\n",
    "print(fit.time)\n",
    "# Or display the information in a figure\n",
    "fit.plot_coherence()"
   ]
  }
 ],
 "metadata": {
  "anaconda-cloud": {},
  "hide_input": false,
  "kernelspec": {
   "display_name": "Python 3",
   "language": "python",
   "name": "python3"
  },
  "language_info": {
   "codemirror_mode": {
    "name": "ipython",
    "version": 3
   },
   "file_extension": ".py",
   "mimetype": "text/x-python",
   "name": "python",
   "nbconvert_exporter": "python",
   "pygments_lexer": "ipython3",
   "version": "3.6.5"
  }
 },
 "nbformat": 4,
 "nbformat_minor": 2
}
